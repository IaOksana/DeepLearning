{
 "cells": [
  {
   "cell_type": "markdown",
   "id": "87b375dc",
   "metadata": {},
   "source": []
  },
  {
   "cell_type": "markdown",
   "id": "e398acb9",
   "metadata": {},
   "source": [
    "<h1 style=\"text-align: center;\">12.  «Текст як послідовність»\n",
    "</h1>\n",
    "<h2 style=\"text-align: center;\">Домашнє завдання.</h2>"
   ]
  },
  {
   "cell_type": "markdown",
   "id": "14955fc3",
   "metadata": {},
   "source": [
    "🎢 Домашнє завдання до модуля «Текст як послідовність»\n",
    "\n",
    "Привіт! Як настрiй? Налаштовані на роботу з задачею машинного перекладу? 😉\n",
    "Ваше домашнє завдання полягає у розробці моделі машинного перекладу з використанням набору даних Helsinki-NLP/europarl. Цей набір даних є паралельним корпусом, вилученим з вебсайту Європейського парламенту, і призначений для досліджень у галузі статистичного машинного перекладу.\n",
    "\n",
    "Вам потрібно:\n",
    "1. Обрати пару мов з набору даних Helsinki-NLP/europarl, для яких ви будете розробляти модель перекладу. Можете вільно обрати будь-яку пару мов, представлену в цьому наборі даних.\n",
    "2. Використовуючи обрану пару мов, розробити модель глибинного навчання для машинного перекладу. Ви можете використовувати архітектури на основі рекурентних нейронних мереж (RNN), seq2seq або інші підходи, які ви вважаєте доречними.\n",
    "3. Навчити модель на обраній підмножині даних.\n",
    "4. Проаналізувати функцію втрат та механізм уваги:\n",
    "побудувати графік зміни функції втрат протягом навчання та проаналізувати його,\n",
    "візуалізувати механізм уваги для кількох прикладів перекладу,\n",
    "зробити висновки про те, як працює механізм уваги у розробленій моделі.\n",
    "\n",
    "\n",
    "Покрокова інструкція виконання\n",
    "1. Здійсніть імпорт необхідних бібліотек.\n",
    "2. Оберіть пару мов, для яких ви навчите модель перекладу.\n",
    "☝ Рекомендуємо обрати пару мов, кожна з яких підтримується бібліотекою spacy. З переліком мов можна ознайомитись тут.\n",
    "3. Завантаження та підготовка даних:\n",
    "Використайте бібліотеку datasets від HuggingFace для завантаження набору даних Helsinki-NLP/europarl.\n",
    "Розділіть дані на навчальний та валідаційний набори.\n",
    "Токенізуйте вхідні данні.\n",
    "Створіть словники для вхідної та вихідної мов.\n",
    "Створіть ітератори даних для ефективного завантаження під час навчання.\n",
    "За бажанням ви можете скоротити датасет в 2-3 рази, щоб пришвидшити виконання завдання.\n",
    "4. Побудова моделі:\n",
    "a) Seq2Seq — рекомендований варіант для задачі такого рівня складності\n",
    "Створіть клас енкодера (використовуйте GRU або LSTM).\n",
    "Створіть клас декодера з механізмом уваги.\n",
    "Об'єднайте енкодер і декодер у seq2seq модель.\n",
    "б) Проста RNN/LSTM/GRU-модель\n",
    "Створіть клас обраної моделі.\n",
    "5. Визначення функції втрат та оптимізатора:\n",
    "Використайте nn.CrossEntropyLoss як функцію втрат.\n",
    "Виберіть оптимізатор (наприклад, Adam).\n",
    "6. Навчання моделі:\n",
    "Напишіть функцію для навчання на одній епосі.\n",
    "Створіть цикл навчання для декількох епох.\n",
    "Збережіть значення функції втрат для подальшого аналізу.\n",
    "7. Візуалізація результатів:\n",
    "Побудуйте графік зміни функції втрат.\n",
    "Візуалізуйте механізм уваги для кількох прикладів перекладу.\n",
    "8. Аналіз та інтерпретація:\n",
    "Проаналізуйте графік функції втрат.\n",
    "Інтерпретуйте візуалізації механізму уваги.\n",
    "Опишіть сильні та слабкі сторони моделі.\n",
    "9. Приклади перекладу:\n",
    "Використайте навчену модель для перекладу кількох тестових речень.\n",
    "Порівняйте результати з еталонними перекладами.\n",
    "\n",
    "\n",
    "Орієнтовний очікуваний результат\n",
    "1. Для простої моделі, після достатньої кількості епох, функція втрат може досягти значень близько 2-4.\n",
    "2. Для дуже добре налаштованої простої моделі, втрати можуть досягти значень близько 1.5–3 на навчальному наборі.\n",
    "☝🏻 Важливо зазначити:\n",
    "1. Ці значення є приблизними і можуть сильно варіюватися залежно від багатьох факторів: складності обраної пари мов, розміру та якості набору даних, архітектури моделі, гіперпараметрів тощо.\n",
    "2. Функція втрат на валідаційному наборі зазвичай буде трохи вищою, ніж на навчальному.\n",
    "3. Надто низькі значення втрат на навчальному наборі при значно вищих втратах на валідаційному можуть вказувати на перенавчання.\n",
    "4. Важливо не лише дивитися на абсолютні значення втрат, але й на динаміку їх зміни протягом навчання.\n",
    "\n",
    "\n",
    "Критерії прийняття ДЗ\n",
    "☝🏻 Критерії прийняття домашнього завдання є обов’язковою умовою розгляду домашнього завдання ментором. Якщо якийсь з критеріїв не виконано, ДЗ відправляється ментором на доопрацювання без оцінювання. \n",
    "Якщо вам «тільки уточнити»😉 або ви «застопорилися» на якомусь з етапів виконання — звертайтеся до ментора у Slack).\n",
    "\n",
    "1. Код виконується.\n",
    "2. Вибір даних та підготовка:\n",
    "обрано пару мов з набору даних Helsinki-NLP/europarl,\n",
    "дані завантажені та підготовлені для навчання моделі.\n",
    "3. Реалізація моделі:\n",
    "створено Seq2Seq або RNN/LSTM/GRU модель з використанням PyTorch,\n",
    "модель містить енкодер та декодер з механізмом уваги.\n",
    "4. Навчання моделі:\n",
    "модель навчена на підготовлених даних,\n",
    "представлено графік зміни функції втрат протягом навчання,\n",
    "наведено приклади перекладів, виконаних моделлю.\n",
    "5. Аналіз механізму уваги:\n",
    "представлено візуалізацію механізму уваги для кількох прикладів,\n",
    "надано коментарі щодо роботи механізму уваги.\n"
   ]
  },
  {
   "cell_type": "code",
   "execution_count": null,
   "id": "eed5c74e",
   "metadata": {},
   "outputs": [],
   "source": [
    "! pip install spacy\n",
    "! python3 -m spacy download en_core_web_sm\n",
    "! python3 -m spacy download fr_core_news_sm"
   ]
  },
  {
   "cell_type": "code",
   "execution_count": 2,
   "id": "bc83ca41",
   "metadata": {},
   "outputs": [],
   "source": [
    "# !pip install update torch==2.0.1\n",
    "# !pip install torchtext==0.15.2\n",
    "# !pip install datasets==2.14.7\n",
    "# !pip install evaluate==0.4.0\n",
    "# !pip install torchvision==0.15.2"
   ]
  },
  {
   "cell_type": "code",
   "execution_count": null,
   "id": "92103e5f",
   "metadata": {},
   "outputs": [],
   "source": [
    "!pip uninstall torch  torchvision torchaudio -y\n",
    "! pip install torch torchvision torchaudio "
   ]
  },
  {
   "cell_type": "code",
   "execution_count": null,
   "id": "f99bb9bd",
   "metadata": {},
   "outputs": [],
   "source": [
    "! pip install evaluate"
   ]
  },
  {
   "cell_type": "code",
   "execution_count": null,
   "id": "21996a6a",
   "metadata": {},
   "outputs": [],
   "source": [
    "! pip install dataclasses"
   ]
  },
  {
   "cell_type": "code",
   "execution_count": null,
   "id": "1575b0aa",
   "metadata": {},
   "outputs": [],
   "source": [
    "! pip install tqdm"
   ]
  },
  {
   "cell_type": "code",
   "execution_count": 1,
   "id": "193eed83",
   "metadata": {},
   "outputs": [],
   "source": [
    "import os\n",
    "import random\n",
    "from tqdm.auto import tqdm\n",
    "from dataclasses import dataclass\n",
    "\n",
    "import spacy\n",
    "import en_core_web_sm\n",
    "import fr_core_news_sm\n",
    "\n",
    "import datasets\n",
    "#import torchtext\n",
    "\n",
    "import torch\n",
    "import torch.nn as nn\n",
    "import torch.optim as optim\n",
    "\n",
    "import evaluate\n",
    "\n",
    "import matplotlib.pyplot as plt\n",
    "import matplotlib.ticker as ticker\n",
    "import pandas as pd\n",
    "import numpy as np\n",
    "\n",
    "import warnings\n",
    "warnings.filterwarnings(\"ignore\")"
   ]
  },
  {
   "cell_type": "code",
   "execution_count": 2,
   "id": "a9f9cfc8",
   "metadata": {},
   "outputs": [],
   "source": [
    "# set random seed\n",
    "\n",
    "seed = 42\n",
    "\n",
    "random.seed(seed)\n",
    "np.random.seed(seed)\n",
    "torch.manual_seed(seed)\n",
    "torch.cuda.manual_seed(seed)\n",
    "torch.backends.cudnn.deterministic = True"
   ]
  },
  {
   "cell_type": "code",
   "execution_count": 3,
   "id": "7492897b",
   "metadata": {},
   "outputs": [],
   "source": [
    "#dataset = datasets.load_dataset(\"bentrevett/multi30k\")\n",
    "# Sort the language codes alphabetically to create the correct config name\n",
    "\n",
    "dataset_main = datasets.load_dataset(\"Helsinki-NLP/europarl\", 'en-fr')"
   ]
  },
  {
   "cell_type": "code",
   "execution_count": 4,
   "id": "40ddc9e2",
   "metadata": {},
   "outputs": [
    {
     "data": {
      "text/plain": [
       "DatasetDict({\n",
       "    train: Dataset({\n",
       "        features: ['translation'],\n",
       "        num_rows: 2051014\n",
       "    })\n",
       "})"
      ]
     },
     "execution_count": 4,
     "metadata": {},
     "output_type": "execute_result"
    }
   ],
   "source": [
    "dataset_main"
   ]
  },
  {
   "cell_type": "code",
   "execution_count": 5,
   "id": "58138b21",
   "metadata": {},
   "outputs": [],
   "source": [
    "dataset = dataset_main[\"train\"].select(list(range(0, len(dataset_main[\"train\"]), 3)))"
   ]
  },
  {
   "cell_type": "code",
   "execution_count": 6,
   "id": "a141179f",
   "metadata": {},
   "outputs": [
    {
     "data": {
      "text/plain": [
       "Dataset({\n",
       "    features: ['translation'],\n",
       "    num_rows: 683672\n",
       "})"
      ]
     },
     "execution_count": 6,
     "metadata": {},
     "output_type": "execute_result"
    }
   ],
   "source": [
    "dataset"
   ]
  },
  {
   "cell_type": "code",
   "execution_count": 7,
   "id": "218a8eee",
   "metadata": {},
   "outputs": [],
   "source": [
    "dataset = dataset.map(\n",
    "    lambda ex: {\"en\": ex[\"translation\"][\"en\"], \"fr\": ex[\"translation\"][\"fr\"]},\n",
    "    remove_columns=[\"translation\"]\n",
    ")"
   ]
  },
  {
   "cell_type": "code",
   "execution_count": 8,
   "id": "1b458b27",
   "metadata": {},
   "outputs": [],
   "source": [
    "# 70% / 15% / 15%\n",
    "train_rest = dataset.train_test_split(test_size=0.8, seed=42)\n",
    "valid_test = train_rest[\"test\"].train_test_split(test_size=0.5, seed=42)\n",
    "\n",
    "train_data = train_rest[\"train\"]\n",
    "valid_data = valid_test[\"train\"]\n",
    "test_data  = valid_test[\"test\"]"
   ]
  },
  {
   "cell_type": "code",
   "execution_count": 9,
   "id": "7331aed9",
   "metadata": {},
   "outputs": [
    {
     "data": {
      "text/plain": [
       "{'en': 'They are about constructing the European cultural area as an area crucial to freedom and to freedoms.',\n",
       " 'fr': \"Il s'agit de construire un espace culturel européen comme un espace essentiel de liberté et des libertés.\"}"
      ]
     },
     "execution_count": 9,
     "metadata": {},
     "output_type": "execute_result"
    }
   ],
   "source": [
    "train_data[0]"
   ]
  },
  {
   "cell_type": "code",
   "execution_count": 10,
   "id": "0edf1be6",
   "metadata": {},
   "outputs": [
    {
     "data": {
      "text/html": [
       "<div>\n",
       "<style scoped>\n",
       "    .dataframe tbody tr th:only-of-type {\n",
       "        vertical-align: middle;\n",
       "    }\n",
       "\n",
       "    .dataframe tbody tr th {\n",
       "        vertical-align: top;\n",
       "    }\n",
       "\n",
       "    .dataframe thead th {\n",
       "        text-align: right;\n",
       "    }\n",
       "</style>\n",
       "<table border=\"1\" class=\"dataframe\">\n",
       "  <thead>\n",
       "    <tr style=\"text-align: right;\">\n",
       "      <th></th>\n",
       "      <th>en</th>\n",
       "      <th>fr</th>\n",
       "    </tr>\n",
       "  </thead>\n",
       "  <tbody>\n",
       "    <tr>\n",
       "      <th>0</th>\n",
       "      <td>They are about constructing the European cultural area as an area crucial to freedom and to freedoms.</td>\n",
       "      <td>Il s'agit de construire un espace culturel européen comme un espace essentiel de liberté et des libertés.</td>\n",
       "    </tr>\n",
       "    <tr>\n",
       "      <th>1</th>\n",
       "      <td>It is, of course, our aim to increase this to 100%.</td>\n",
       "      <td>L'objectif est bien sûr de passer à 100 %.</td>\n",
       "    </tr>\n",
       "    <tr>\n",
       "      <th>2</th>\n",
       "      <td>There was no shortage of ministerial meetings and encounters, but the encounters were frankly better than the quality of the negotiations that took place within those encounters.</td>\n",
       "      <td>Il n’a pas manqué de réunions et rencontres ministérielles, mais les rencontres étaient franchement meilleures que la qualité des négociations.</td>\n",
       "    </tr>\n",
       "    <tr>\n",
       "      <th>3</th>\n",
       "      <td>That cannot be taken for granted.</td>\n",
       "      <td>Ce n'est pas acquis d'avance.</td>\n",
       "    </tr>\n",
       "    <tr>\n",
       "      <th>4</th>\n",
       "      <td>And this report is not a torpedo.</td>\n",
       "      <td>Et ce rapport n'est pas une torpille.</td>\n",
       "    </tr>\n",
       "  </tbody>\n",
       "</table>\n",
       "</div>"
      ],
      "text/plain": [
       "                                                                                                                                                                                   en  \\\n",
       "0                                                                               They are about constructing the European cultural area as an area crucial to freedom and to freedoms.   \n",
       "1                                                                                                                                 It is, of course, our aim to increase this to 100%.   \n",
       "2  There was no shortage of ministerial meetings and encounters, but the encounters were frankly better than the quality of the negotiations that took place within those encounters.   \n",
       "3                                                                                                                                                   That cannot be taken for granted.   \n",
       "4                                                                                                                                                   And this report is not a torpedo.   \n",
       "\n",
       "                                                                                                                                                fr  \n",
       "0                                        Il s'agit de construire un espace culturel européen comme un espace essentiel de liberté et des libertés.  \n",
       "1                                                                                                       L'objectif est bien sûr de passer à 100 %.  \n",
       "2  Il n’a pas manqué de réunions et rencontres ministérielles, mais les rencontres étaient franchement meilleures que la qualité des négociations.  \n",
       "3                                                                                                                    Ce n'est pas acquis d'avance.  \n",
       "4                                                                                                            Et ce rapport n'est pas une torpille.  "
      ]
     },
     "metadata": {},
     "output_type": "display_data"
    }
   ],
   "source": [
    "with pd.option_context('display.max_colwidth', None):\n",
    "    example_df = pd.DataFrame(train_data[:5])\n",
    "    display(example_df)"
   ]
  },
  {
   "cell_type": "code",
   "execution_count": 11,
   "id": "9273b322",
   "metadata": {},
   "outputs": [],
   "source": [
    "en_nlp = en_core_web_sm.load()\n",
    "fr_nlp = fr_core_news_sm.load()"
   ]
  },
  {
   "cell_type": "code",
   "execution_count": 12,
   "id": "5c765982",
   "metadata": {},
   "outputs": [],
   "source": [
    "\n",
    "def tokenize_example(    \n",
    "    example,\n",
    "    en_nlp,\n",
    "    fr_nlp,\n",
    "    max_length,\n",
    "    lower,\n",
    "    sos_token,\n",
    "    eos_token\n",
    "):\n",
    "    '''\n",
    "    Tokenizes a textual English-German input pair.    \n",
    "    Args:\n",
    "        example: (dict) a dictionary with one phrase in English and German; keys 'en', 'fr'\n",
    "        en_nlp: (spacy.lang) a spacy language model for English\n",
    "        fr_nlp: (spacy.lang) a spacy language model for German\n",
    "        max_length: (int) max input sentence length, symbols\n",
    "        lower: (bool) if to lowercase input\n",
    "        sos_token: (str) a start_of_sequence token\n",
    "        eos_token: (str) an end_of_sequence token\n",
    "    \n",
    "    Return:    \n",
    "        (dict) pre-processed and tokenized input sequence  \n",
    "    '''\n",
    "    en_tokens = [token.text for token in en_nlp.tokenizer(example[\"en\"])][:max_length]\n",
    "    fr_tokens = [token.text for token in fr_nlp.tokenizer(example[\"fr\"])][:max_length]\n",
    "    if lower:\n",
    "        en_tokens = [token.lower() for token in en_tokens]\n",
    "        fr_tokens = [token.lower() for token in fr_tokens]\n",
    "    en_tokens = [sos_token] + en_tokens + [eos_token]\n",
    "    fr_tokens = [sos_token] + fr_tokens + [eos_token]\n",
    "    return {\"en_tokens\": en_tokens, \"fr_tokens\": fr_tokens}"
   ]
  },
  {
   "cell_type": "code",
   "execution_count": 13,
   "id": "2d7e4ad4",
   "metadata": {},
   "outputs": [],
   "source": [
    "# Pre-process input data\n",
    "\n",
    "max_length = 1_000\n",
    "lower = True\n",
    "sos_token = \"<sos>\"\n",
    "eos_token = \"<eos>\"\n",
    "\n",
    "fn_kwargs = {\n",
    "    \"en_nlp\": en_nlp, \n",
    "    \"fr_nlp\": fr_nlp, \n",
    "    \"max_length\": max_length,\n",
    "    \"lower\": lower,\n",
    "    \"sos_token\": sos_token,\n",
    "    \"eos_token\": eos_token,\n",
    "}\n",
    "\n",
    "train_data = train_data.map(tokenize_example, fn_kwargs=fn_kwargs)\n",
    "valid_data = valid_data.map(tokenize_example, fn_kwargs=fn_kwargs)\n",
    "test_data = test_data.map(tokenize_example, fn_kwargs=fn_kwargs)"
   ]
  },
  {
   "cell_type": "code",
   "execution_count": 14,
   "id": "77337e14",
   "metadata": {
    "scrolled": true
   },
   "outputs": [
    {
     "data": {
      "text/plain": [
       "{'en': 'They are about constructing the European cultural area as an area crucial to freedom and to freedoms.',\n",
       " 'fr': \"Il s'agit de construire un espace culturel européen comme un espace essentiel de liberté et des libertés.\",\n",
       " 'en_tokens': ['<sos>',\n",
       "  'they',\n",
       "  'are',\n",
       "  'about',\n",
       "  'constructing',\n",
       "  'the',\n",
       "  'european',\n",
       "  'cultural',\n",
       "  'area',\n",
       "  'as',\n",
       "  'an',\n",
       "  'area',\n",
       "  'crucial',\n",
       "  'to',\n",
       "  'freedom',\n",
       "  'and',\n",
       "  'to',\n",
       "  'freedoms',\n",
       "  '.',\n",
       "  '<eos>'],\n",
       " 'fr_tokens': ['<sos>',\n",
       "  'il',\n",
       "  \"s'\",\n",
       "  'agit',\n",
       "  'de',\n",
       "  'construire',\n",
       "  'un',\n",
       "  'espace',\n",
       "  'culturel',\n",
       "  'européen',\n",
       "  'comme',\n",
       "  'un',\n",
       "  'espace',\n",
       "  'essentiel',\n",
       "  'de',\n",
       "  'liberté',\n",
       "  'et',\n",
       "  'des',\n",
       "  'libertés',\n",
       "  '.',\n",
       "  '<eos>']}"
      ]
     },
     "execution_count": 14,
     "metadata": {},
     "output_type": "execute_result"
    }
   ],
   "source": [
    "train_data[0]"
   ]
  },
  {
   "cell_type": "code",
   "execution_count": 15,
   "id": "ac547f28",
   "metadata": {},
   "outputs": [],
   "source": [
    "# Creating a vocab\n",
    "\n",
    "min_freq = 2 # minimum frequency of occurrence in the text\n",
    "unk_token = \"<unk>\" # unknown token\n",
    "pad_token = \"<pad>\" # padding token\n",
    "\n",
    "special_tokens = [\n",
    "    unk_token,\n",
    "    pad_token,\n",
    "    sos_token,\n",
    "    eos_token,\n",
    "]\n",
    "import pandas as pd\n",
    "\n",
    "def build_vocab_df(tokens_column, min_freq=1, specials=None):\n",
    "    # превращаем список списков в Series токенов\n",
    "    all_tokens = pd.Series([tok for sent in tokens_column for tok in sent])\n",
    "    freqs = all_tokens.value_counts()\n",
    "    \n",
    "    vocab = {}\n",
    "    idx = 0\n",
    "    \n",
    "    if specials:\n",
    "        for sp in specials:\n",
    "            vocab[sp] = idx\n",
    "            idx += 1\n",
    "    \n",
    "    for token, freq in freqs.items():\n",
    "        if freq >= min_freq:\n",
    "            vocab[token] = idx\n",
    "            idx += 1\n",
    "    \n",
    "    return vocab\n",
    "\n",
    "en_stoi = build_vocab_df(train_data[\"en_tokens\"], min_freq=2, specials=[\"<unk>\", \"<pad>\"])\n",
    "fr_stoi = build_vocab_df(train_data[\"fr_tokens\"], min_freq=2, specials=[\"<unk>\", \"<pad>\"])\n",
    "'''\n",
    "en_vocab = torchtext.vocab.build_vocab_from_iterator(\n",
    "    train_data[\"en_tokens\"],\n",
    "    min_freq=min_freq,\n",
    "    specials=special_tokens,\n",
    ")\n",
    "\n",
    "de_vocab = torchtext.vocab.build_vocab_from_iterator(\n",
    "    train_data[\"de_tokens\"],\n",
    "    min_freq=min_freq,\n",
    "    specials=special_tokens,  \n",
    ")\n",
    "'''\n",
    "class MiniVocab:\n",
    "    def __init__(self, stoi, unk_index=0):\n",
    "        self.stoi = dict(stoi)              # token -> id\n",
    "        self.unk_index = unk_index\n",
    "        # itos не обязателен, но полезен\n",
    "        max_id = -1\n",
    "        for _, i in self.stoi.items():\n",
    "            if i > max_id: max_id = i\n",
    "        self.itos = [\"\"] * (max_id + 1)\n",
    "        for tok, i in self.stoi.items():\n",
    "            if i < len(self.itos):\n",
    "                self.itos[i] = tok\n",
    "\n",
    "    def set_default_index(self, idx):\n",
    "        self.unk_index = idx\n",
    "\n",
    "    def __getitem__(self, token):\n",
    "        return self.stoi.get(token, self.unk_index)\n",
    "\n",
    "    def lookup_indices(self, tokens):\n",
    "        return [self.stoi.get(t, self.unk_index) for t in tokens]\n",
    "\n",
    "    def lookup_token(self, idx):\n",
    "        if 0 <= idx < len(self.itos):\n",
    "            return self.itos[idx]\n",
    "        return \"<unk>\"\n",
    "    \n",
    "    def lookup_tokens(self, indices):\n",
    "        return [self.lookup_token(i) for i in indices]\n",
    "    \n",
    "    def __len__(self):\n",
    "        # размер словаря = количество индексов\n",
    "        return len(self.itos)\n",
    "    \n",
    "UNK = \"<unk>\"\n",
    "unk_index = en_stoi[UNK]  # тот же индекс, что ты назначила спец-символу\n",
    "\n",
    "en_vocab = MiniVocab(en_stoi, unk_index=unk_index)\n",
    "fr_vocab = MiniVocab(fr_stoi, unk_index=unk_index)\n",
    "en_vocab.set_default_index(unk_index)\n",
    "fr_vocab.set_default_index(unk_index)"
   ]
  },
  {
   "cell_type": "code",
   "execution_count": 16,
   "id": "508de79f",
   "metadata": {},
   "outputs": [
    {
     "name": "stdout",
     "output_type": "stream",
     "text": [
      "0\n",
      "1\n",
      "2\n"
     ]
    }
   ],
   "source": [
    "assert en_vocab[unk_token] == fr_vocab[unk_token]\n",
    "assert en_vocab[pad_token] == fr_vocab[pad_token]\n",
    "\n",
    "unk_index = en_vocab[unk_token]\n",
    "pad_index = en_vocab[pad_token]\n",
    "\n",
    "print(unk_index)\n",
    "print(pad_index)\n",
    "\n",
    "print(en_vocab['the'])"
   ]
  },
  {
   "cell_type": "code",
   "execution_count": 18,
   "id": "143cbb82",
   "metadata": {},
   "outputs": [],
   "source": [
    "# Setting default value for oov words\n",
    "\n",
    "en_vocab.set_default_index(unk_index)\n",
    "fr_vocab.set_default_index(unk_index)"
   ]
  },
  {
   "cell_type": "code",
   "execution_count": 19,
   "id": "67902b24",
   "metadata": {},
   "outputs": [],
   "source": [
    "def numericalize_example(example, en_vocab, fr_vocab):\n",
    "    '''\n",
    "    Creates a mapping from string tokens to the vocabulary indexes.\n",
    "    '''\n",
    "    en_ids = en_vocab.lookup_indices(example[\"en_tokens\"])\n",
    "    fr_ids = fr_vocab.lookup_indices(example[\"fr_tokens\"])\n",
    "    return {\"en_ids\": en_ids, \"fr_ids\": fr_ids}"
   ]
  },
  {
   "cell_type": "code",
   "execution_count": 20,
   "id": "b58540de",
   "metadata": {},
   "outputs": [],
   "source": [
    "fn_kwargs = {\n",
    "    \"en_vocab\": en_vocab, \n",
    "    \"fr_vocab\": fr_vocab\n",
    "}\n",
    "\n",
    "train_data = train_data.map(numericalize_example, fn_kwargs=fn_kwargs)\n",
    "valid_data = valid_data.map(numericalize_example, fn_kwargs=fn_kwargs)\n",
    "test_data = test_data.map(numericalize_example, fn_kwargs=fn_kwargs)"
   ]
  },
  {
   "cell_type": "code",
   "execution_count": 21,
   "id": "e7021fb6",
   "metadata": {},
   "outputs": [
    {
     "data": {
      "text/plain": [
       "{'en': 'They are about constructing the European cultural area as an area crucial to freedom and to freedoms.',\n",
       " 'fr': \"Il s'agit de construire un espace culturel européen comme un espace essentiel de liberté et des libertés.\",\n",
       " 'en_tokens': ['<sos>',\n",
       "  'they',\n",
       "  'are',\n",
       "  'about',\n",
       "  'constructing',\n",
       "  'the',\n",
       "  'european',\n",
       "  'cultural',\n",
       "  'area',\n",
       "  'as',\n",
       "  'an',\n",
       "  'area',\n",
       "  'crucial',\n",
       "  'to',\n",
       "  'freedom',\n",
       "  'and',\n",
       "  'to',\n",
       "  'freedoms',\n",
       "  '.',\n",
       "  '<eos>'],\n",
       " 'fr_tokens': ['<sos>',\n",
       "  'il',\n",
       "  \"s'\",\n",
       "  'agit',\n",
       "  'de',\n",
       "  'construire',\n",
       "  'un',\n",
       "  'espace',\n",
       "  'culturel',\n",
       "  'européen',\n",
       "  'comme',\n",
       "  'un',\n",
       "  'espace',\n",
       "  'essentiel',\n",
       "  'de',\n",
       "  'liberté',\n",
       "  'et',\n",
       "  'des',\n",
       "  'libertés',\n",
       "  '.',\n",
       "  '<eos>'],\n",
       " 'en_ids': [4,\n",
       "  61,\n",
       "  23,\n",
       "  80,\n",
       "  5886,\n",
       "  2,\n",
       "  28,\n",
       "  706,\n",
       "  213,\n",
       "  24,\n",
       "  36,\n",
       "  213,\n",
       "  680,\n",
       "  8,\n",
       "  397,\n",
       "  9,\n",
       "  8,\n",
       "  1419,\n",
       "  6,\n",
       "  5],\n",
       " 'fr_ids': [4,\n",
       "  25,\n",
       "  56,\n",
       "  172,\n",
       "  2,\n",
       "  1985,\n",
       "  21,\n",
       "  830,\n",
       "  2089,\n",
       "  74,\n",
       "  61,\n",
       "  21,\n",
       "  830,\n",
       "  448,\n",
       "  2,\n",
       "  407,\n",
       "  8,\n",
       "  13,\n",
       "  1039,\n",
       "  6,\n",
       "  5]}"
      ]
     },
     "execution_count": 21,
     "metadata": {},
     "output_type": "execute_result"
    }
   ],
   "source": [
    "train_data[0]"
   ]
  },
  {
   "cell_type": "code",
   "execution_count": 22,
   "id": "b1fa9387",
   "metadata": {},
   "outputs": [],
   "source": [
    "# Data to torch Dataset format\n",
    "\n",
    "data_type = \"torch\"\n",
    "format_columns = [\"en_ids\", \"fr_ids\"]\n",
    "\n",
    "train_data = train_data.with_format(\n",
    "    type=data_type, \n",
    "    columns=format_columns, \n",
    "    output_all_columns=True\n",
    ")\n",
    "\n",
    "valid_data = valid_data.with_format(\n",
    "    type=data_type, \n",
    "    columns=format_columns, \n",
    "    output_all_columns=True,\n",
    ")\n",
    "\n",
    "test_data = test_data.with_format(\n",
    "    type=data_type, \n",
    "    columns=format_columns, \n",
    "    output_all_columns=True,\n",
    ")"
   ]
  },
  {
   "cell_type": "code",
   "execution_count": 23,
   "id": "deeddf83",
   "metadata": {},
   "outputs": [
    {
     "data": {
      "text/plain": [
       "Dataset({\n",
       "    features: ['en', 'fr', 'en_tokens', 'fr_tokens', 'en_ids', 'fr_ids'],\n",
       "    num_rows: 136734\n",
       "})"
      ]
     },
     "execution_count": 23,
     "metadata": {},
     "output_type": "execute_result"
    }
   ],
   "source": [
    "train_data"
   ]
  },
  {
   "cell_type": "code",
   "execution_count": 24,
   "id": "d3be7dc5",
   "metadata": {},
   "outputs": [
    {
     "data": {
      "text/plain": [
       "{'en_ids': tensor([   4,   61,   23,   80, 5886,    2,   28,  706,  213,   24,   36,  213,\n",
       "          680,    8,  397,    9,    8, 1419,    6,    5]),\n",
       " 'fr_ids': tensor([   4,   25,   56,  172,    2, 1985,   21,  830, 2089,   74,   61,   21,\n",
       "          830,  448,    2,  407,    8,   13, 1039,    6,    5]),\n",
       " 'en': 'They are about constructing the European cultural area as an area crucial to freedom and to freedoms.',\n",
       " 'fr': \"Il s'agit de construire un espace culturel européen comme un espace essentiel de liberté et des libertés.\",\n",
       " 'en_tokens': ['<sos>',\n",
       "  'they',\n",
       "  'are',\n",
       "  'about',\n",
       "  'constructing',\n",
       "  'the',\n",
       "  'european',\n",
       "  'cultural',\n",
       "  'area',\n",
       "  'as',\n",
       "  'an',\n",
       "  'area',\n",
       "  'crucial',\n",
       "  'to',\n",
       "  'freedom',\n",
       "  'and',\n",
       "  'to',\n",
       "  'freedoms',\n",
       "  '.',\n",
       "  '<eos>'],\n",
       " 'fr_tokens': ['<sos>',\n",
       "  'il',\n",
       "  \"s'\",\n",
       "  'agit',\n",
       "  'de',\n",
       "  'construire',\n",
       "  'un',\n",
       "  'espace',\n",
       "  'culturel',\n",
       "  'européen',\n",
       "  'comme',\n",
       "  'un',\n",
       "  'espace',\n",
       "  'essentiel',\n",
       "  'de',\n",
       "  'liberté',\n",
       "  'et',\n",
       "  'des',\n",
       "  'libertés',\n",
       "  '.',\n",
       "  '<eos>']}"
      ]
     },
     "execution_count": 24,
     "metadata": {},
     "output_type": "execute_result"
    }
   ],
   "source": [
    "train_data[0]"
   ]
  },
  {
   "cell_type": "code",
   "execution_count": 25,
   "id": "81a9f67d",
   "metadata": {},
   "outputs": [],
   "source": [
    "def get_collate_fn(pad_index):\n",
    "    '''\n",
    "    Adding padding as a part of a collate_fn.\n",
    "    '''\n",
    "    \n",
    "    def collate_fn(batch):\n",
    "        batch_en_ids = [example[\"en_ids\"] for example in batch]\n",
    "        batch_fr_ids = [example[\"fr_ids\"] for example in batch]\n",
    "        batch_en_ids = nn.utils.rnn.pad_sequence(batch_en_ids, padding_value=pad_index)\n",
    "        batch_fr_ids = nn.utils.rnn.pad_sequence(batch_fr_ids, padding_value=pad_index)\n",
    "        batch = {\n",
    "            \"en_ids\": batch_en_ids,\n",
    "            \"fr_ids\": batch_fr_ids,\n",
    "        }\n",
    "        return batch\n",
    "    \n",
    "    return collate_fn"
   ]
  },
  {
   "cell_type": "code",
   "execution_count": 26,
   "id": "0c6e4d56",
   "metadata": {},
   "outputs": [],
   "source": [
    "def get_data_loader(dataset, batch_size, pad_index, shuffle=False):\n",
    "    \n",
    "    collate_fn = get_collate_fn(pad_index)\n",
    "    \n",
    "    data_loader = torch.utils.data.DataLoader(\n",
    "        dataset=dataset,\n",
    "        batch_size=batch_size,\n",
    "        collate_fn=collate_fn,\n",
    "        shuffle=shuffle,\n",
    "    )\n",
    "    \n",
    "    return data_loader"
   ]
  },
  {
   "cell_type": "code",
   "execution_count": 27,
   "id": "57383489",
   "metadata": {},
   "outputs": [],
   "source": [
    "batch_size = 128\n",
    "\n",
    "train_data_loader = get_data_loader(train_data, batch_size, pad_index, shuffle=True)\n",
    "valid_data_loader = get_data_loader(valid_data, batch_size, pad_index)\n",
    "test_data_loader = get_data_loader(test_data, batch_size, pad_index)"
   ]
  },
  {
   "cell_type": "code",
   "execution_count": 28,
   "id": "fc82f758",
   "metadata": {},
   "outputs": [
    {
     "data": {
      "text/plain": [
       "{'en_ids': tensor([[   4,    4,    4,  ...,    4,    4,    4],\n",
       "         [   2, 1030,   19,  ...,   15,  102,   24],\n",
       "         [ 132,   44,  674,  ...,   39,    3,  164],\n",
       "         ...,\n",
       "         [   1,    1,    1,  ...,    1,    1,    1],\n",
       "         [   1,    1,    1,  ...,    1,    1,    1],\n",
       "         [   1,    1,    1,  ...,    1,    1,    1]]),\n",
       " 'fr_ids': tensor([[   4,    4,    4,  ...,    4,    4,    4],\n",
       "         [   9,   20,   83,  ...,   17,   25,   22],\n",
       "         [  65,  136, 8810,  ...,  515,  128,    9],\n",
       "         ...,\n",
       "         [   1,    1,    1,  ...,    1,    1,    1],\n",
       "         [   1,    1,    1,  ...,    1,    1,    1],\n",
       "         [   1,    1,    1,  ...,    1,    1,    1]])}"
      ]
     },
     "execution_count": 28,
     "metadata": {},
     "output_type": "execute_result"
    }
   ],
   "source": [
    "next(iter(train_data_loader))"
   ]
  },
  {
   "cell_type": "code",
   "execution_count": 29,
   "id": "5b228450",
   "metadata": {},
   "outputs": [],
   "source": [
    "class Encoder(nn.Module):\n",
    "    def __init__(self, input_dim, embedding_dim, encoder_hidden_dim, decoder_hidden_dim):\n",
    "        super().__init__()\n",
    "        self.embedding = nn.Embedding(input_dim, embedding_dim)\n",
    "        self.rnn = nn.GRU(embedding_dim, encoder_hidden_dim, bidirectional = True)\n",
    "        self.fc = nn.Linear(encoder_hidden_dim * 2, decoder_hidden_dim)\n",
    "        \n",
    "    def forward(self, src): # (src_length, batch size)\n",
    "        embedded = self.embedding(src) # (src_length, batch_size, embedding_dim)\n",
    "\n",
    "        outputs, hidden = self.rnn(embedded)\n",
    "        # outputs (src_length, batch_size, hidden dim * n_directions)\n",
    "        # hidden (n_layers * n_directions, batch_size, hidden dim)\n",
    "        \n",
    "        # hidden is stacked [forward_1, backward_1, forward_2, backward_2, ...]\n",
    "        \n",
    "        # outputs are always from the last layer\n",
    "        # hidden [-2, :, : ] is the last of the forwards RNN \n",
    "        # hidden [-1, :, : ] is the last of the backwards RNN\n",
    "       \n",
    "        # initial decoder hidden is final hidden state of the forwards and backwards \n",
    "        # encoder RNNs fed through a linear layer\n",
    "        \n",
    "        hidden = torch.tanh(self.fc(torch.cat((hidden[-2,:,:], hidden[-1,:,:]), dim=1)))\n",
    "        \n",
    "        # outputs (src_length, batch_size, encoder_hidden_dim * 2)\n",
    "        # hidden (batch_size, decoder_hidden_dim)\n",
    "        \n",
    "        return outputs, hidden"
   ]
  },
  {
   "cell_type": "code",
   "execution_count": 30,
   "id": "38e906d8",
   "metadata": {},
   "outputs": [],
   "source": [
    "'''\n",
    "class Attention(nn.Module):\n",
    "    def __init__(self, encoder_hidden_dim, decoder_hidden_dim):\n",
    "        super().__init__()\n",
    "        self.attn_fc = nn.Linear(\n",
    "            (encoder_hidden_dim * 2) + decoder_hidden_dim, \n",
    "            decoder_hidden_dim\n",
    "        )\n",
    "        self.v_fc = nn.Linear(decoder_hidden_dim, 1, bias=False)\n",
    "        \n",
    "    def forward(self, hidden, encoder_outputs):        \n",
    "        # hidden (batch_size, decoder_hidden_dim)\n",
    "        # encoder_outputs (src_length, batch_size, encoder_hidden dim * 2)\n",
    "        \n",
    "        batch_size = encoder_outputs.shape[1]\n",
    "        src_length = encoder_outputs.shape[0]\n",
    "        \n",
    "        # repeat decoder hidden state src_length times\n",
    "        hidden = hidden.unsqueeze(1).repeat(1, src_length, 1) # (batch_size, src_length, decoder_hidden_dim)\n",
    "        encoder_outputs = encoder_outputs.permute(1, 0, 2) # (batch_size, src_length, encoder_hidden_dim * 2)\n",
    "        \n",
    "        energy = torch.tanh(self.attn_fc(torch.cat((hidden, encoder_outputs), dim=2))) \n",
    "        # (batch_size, src_length, decoder_hidden_dim)\n",
    "\n",
    "        attention = self.v_fc(energy).squeeze(2) # batch_size, src_length\n",
    "\n",
    "        return torch.softmax(attention, dim=1)\n",
    "'''\n",
    "\n",
    "class Attention(nn.Module):\n",
    "    def __init__(self, enc_hid, dec_hid):\n",
    "        super().__init__()\n",
    "        self.W_enc = nn.Linear(enc_hid*2, dec_hid, bias=False)\n",
    "        self.W_dec = nn.Linear(dec_hid,    dec_hid, bias=False)\n",
    "        self.v_fc  = nn.Linear(dec_hid, 1, bias=False)\n",
    "\n",
    "    def forward(self, hidden, enc_out):  # enc_out: (S,B,2*enc_hid), hidden: (B,dec_hid)\n",
    "        # проецируем отдельно и складываем (бродкаст), без repeat/cat\n",
    "        e = torch.tanh(self.W_enc(enc_out) + self.W_dec(hidden).unsqueeze(0))  # (S,B,dec_hid)\n",
    "        attention = self.v_fc(e).squeeze(-1).permute(1,0)                           # (B,S)\n",
    "        return torch.softmax(attention, dim=1)"
   ]
  },
  {
   "cell_type": "code",
   "execution_count": 31,
   "id": "c5b1313c",
   "metadata": {},
   "outputs": [],
   "source": [
    "class Decoder(nn.Module):\n",
    "    def __init__(\n",
    "        self,\n",
    "        output_dim,\n",
    "        embedding_dim,\n",
    "        encoder_hidden_dim,\n",
    "        decoder_hidden_dim,\n",
    "        attention,\n",
    "    ):\n",
    "        super().__init__()\n",
    "        self.output_dim = output_dim\n",
    "        self.attention = attention\n",
    "        self.embedding = nn.Embedding(output_dim, embedding_dim)\n",
    "        self.rnn = nn.GRU((encoder_hidden_dim * 2) + embedding_dim, decoder_hidden_dim) \n",
    "        self.fc_out = nn.Linear(\n",
    "            (encoder_hidden_dim * 2) + decoder_hidden_dim + embedding_dim, \n",
    "            output_dim\n",
    "        )\n",
    "        \n",
    "    def forward(self, input, hidden, encoder_outputs):\n",
    "        # input = (batch_size)\n",
    "        # hidden = batch_size, decoder hidden dim]\n",
    "        # encoder_outputs = [src length, batch size, encoder hidden dim * 2]\n",
    "        input = input.unsqueeze(0)\n",
    "        # input = [1, batch size]\n",
    "        embedded = self.embedding(input)\n",
    "        #embedded = [1, batch size, embedding dim]\n",
    "        a = self.attention(hidden, encoder_outputs)\n",
    "        # a = [batch size, src length]\n",
    "        a = a.unsqueeze(1)\n",
    "        # a = [batch size, 1, src length]\n",
    "        encoder_outputs = encoder_outputs.permute(1, 0, 2)\n",
    "        # encoder_outputs = [batch size, src length, encoder hidden dim * 2]\n",
    "        weighted = torch.bmm(a, encoder_outputs) # batch matrix-matrix product\n",
    "        # weighted = [batch size, 1, encoder hidden dim * 2]\n",
    "        weighted = weighted.permute(1, 0, 2)\n",
    "        # weighted = [1, batch size, encoder hidden dim * 2]\n",
    "        rnn_input = torch.cat((embedded, weighted), dim = 2)\n",
    "        # rnn_input = [1, batch size, (encoder hidden dim * 2) + embedding dim]\n",
    "        output, hidden = self.rnn(rnn_input, hidden.unsqueeze(0))\n",
    "        # output = [seq length, batch size, decoder hid dim * n directions]\n",
    "        # hidden = [n layers * n directions, batch size, decoder hid dim]\n",
    "        # seq len, n layers and n directions will always be 1 in this decoder, therefore:\n",
    "        # output = [1, batch size, decoder hidden dim]\n",
    "        # hidden = [1, batch size, decoder hidden dim]\n",
    "        # this also means that output == hidden\n",
    "        assert (output == hidden).all()\n",
    "        embedded = embedded.squeeze(0)\n",
    "        output = output.squeeze(0)\n",
    "        weighted = weighted.squeeze(0)\n",
    "        prediction = self.fc_out(torch.cat((output, weighted, embedded), dim=1))\n",
    "        #prediction = [batch size, output dim]\n",
    "        return prediction, hidden.squeeze(0), a.squeeze(1)\n"
   ]
  },
  {
   "cell_type": "code",
   "execution_count": 32,
   "id": "b07a13b3",
   "metadata": {},
   "outputs": [],
   "source": [
    "class Seq2Seq(nn.Module):\n",
    "    def __init__(self, encoder, decoder, device):\n",
    "        super().__init__()\n",
    "        self.encoder = encoder\n",
    "        self.decoder = decoder\n",
    "        self.device = device\n",
    "        \n",
    "    def forward(self, src, trg, teacher_forcing_ratio):\n",
    "        # src = [src length, batch size]\n",
    "        # trg = [trg length, batch size]\n",
    "        # teacher_forcing_ratio is probability to use teacher forcing\n",
    "        # e.g. if teacher_forcing_ratio is 0.75 we use teacher forcing 75% of the time\n",
    "        batch_size = src.shape[1]\n",
    "        trg_length = trg.shape[0]\n",
    "        trg_vocab_size = self.decoder.output_dim\n",
    "        #tensor to store decoder outputs\n",
    "        outputs = torch.zeros(trg_length, batch_size, trg_vocab_size).to(self.device)\n",
    "        # encoder_outputs is all hidden states of the input sequence, back and forwards\n",
    "        # hidden is the final forward and backward hidden states, passed through a linear layer\n",
    "        encoder_outputs, hidden = self.encoder(src)\n",
    "        # outputs = [src length, batch size, encoder hidden dim * 2]\n",
    "        # hidden = [batch size, decoder hidden dim]\n",
    "        # first input to the decoder is the <sos> tokens\n",
    "        input = trg[0,:]\n",
    "        for t in range(1, trg_length):\n",
    "            # insert input token embedding, previous hidden state and all encoder hidden states\n",
    "            # receive output tensor (predictions) and new hidden state\n",
    "            output, hidden, _ = self.decoder(input, hidden, encoder_outputs)\n",
    "            # output = [batch size, output dim]\n",
    "            # hidden = [n layers, batch size, decoder hidden dim]\n",
    "            #place predictions in a tensor holding predictions for each token\n",
    "            outputs[t] = output\n",
    "            #decide if we are going to use teacher forcing or not\n",
    "            teacher_force = random.random() < teacher_forcing_ratio\n",
    "            #get the highest predicted token from our predictions\n",
    "            top1 = output.argmax(1) \n",
    "            # if teacher forcing, use actual next token as next input\n",
    "            # if not, use predicted token\n",
    "            input = trg[t] if teacher_force else top1\n",
    "            # input = [batch size]\n",
    "        return outputs"
   ]
  },
  {
   "cell_type": "code",
   "execution_count": 33,
   "id": "34b9871e",
   "metadata": {},
   "outputs": [
    {
     "name": "stdout",
     "output_type": "stream",
     "text": [
      "Папка существует ✅\n"
     ]
    }
   ],
   "source": [
    "input_dim = len(fr_vocab)\n",
    "output_dim = len(en_vocab)\n",
    "encoder_embedding_dim = 128\n",
    "decoder_embedding_dim = 128\n",
    "encoder_hidden_dim = 256\n",
    "decoder_hidden_dim = 256\n",
    "device = torch.device(\"cuda\" if torch.cuda.is_available() else \"cpu\")\n",
    "model_dir = 'saved_models'\n",
    "if os.path.exists(model_dir) and os.path.isdir(model_dir):\n",
    "    print(\"Папка существует ✅\")\n",
    "else:\n",
    "    os.makedirs(model_dir, exist_ok=True)\n",
    "    print(\"Папка не найдена ❌\")\n"
   ]
  },
  {
   "cell_type": "code",
   "execution_count": 34,
   "id": "0075653e",
   "metadata": {},
   "outputs": [
    {
     "data": {
      "text/plain": [
       "Seq2Seq(\n",
       "  (encoder): Encoder(\n",
       "    (embedding): Embedding(30539, 128)\n",
       "    (rnn): GRU(128, 256, bidirectional=True)\n",
       "    (fc): Linear(in_features=512, out_features=256, bias=True)\n",
       "  )\n",
       "  (decoder): Decoder(\n",
       "    (attention): Attention(\n",
       "      (W_enc): Linear(in_features=512, out_features=256, bias=False)\n",
       "      (W_dec): Linear(in_features=256, out_features=256, bias=False)\n",
       "      (v_fc): Linear(in_features=256, out_features=1, bias=False)\n",
       "    )\n",
       "    (embedding): Embedding(22499, 128)\n",
       "    (rnn): GRU(640, 256)\n",
       "    (fc_out): Linear(in_features=896, out_features=22499, bias=True)\n",
       "  )\n",
       ")"
      ]
     },
     "execution_count": 34,
     "metadata": {},
     "output_type": "execute_result"
    }
   ],
   "source": [
    "attention = Attention(encoder_hidden_dim, decoder_hidden_dim)\n",
    "\n",
    "encoder = Encoder(\n",
    "    input_dim,\n",
    "    encoder_embedding_dim,\n",
    "    encoder_hidden_dim,\n",
    "    decoder_hidden_dim\n",
    ")\n",
    "\n",
    "decoder = Decoder(\n",
    "    output_dim,\n",
    "    decoder_embedding_dim,\n",
    "    encoder_hidden_dim,\n",
    "    decoder_hidden_dim,\n",
    "    attention,\n",
    ")\n",
    "\n",
    "\n",
    "model = Seq2Seq(encoder, decoder, device).to(device)\n",
    "\n",
    "model"
   ]
  },
  {
   "cell_type": "code",
   "execution_count": 35,
   "id": "e4fde990",
   "metadata": {},
   "outputs": [
    {
     "data": {
      "text/plain": [
       "Seq2Seq(\n",
       "  (encoder): Encoder(\n",
       "    (embedding): Embedding(30539, 128)\n",
       "    (rnn): GRU(128, 256, bidirectional=True)\n",
       "    (fc): Linear(in_features=512, out_features=256, bias=True)\n",
       "  )\n",
       "  (decoder): Decoder(\n",
       "    (attention): Attention(\n",
       "      (W_enc): Linear(in_features=512, out_features=256, bias=False)\n",
       "      (W_dec): Linear(in_features=256, out_features=256, bias=False)\n",
       "      (v_fc): Linear(in_features=256, out_features=1, bias=False)\n",
       "    )\n",
       "    (embedding): Embedding(22499, 128)\n",
       "    (rnn): GRU(640, 256)\n",
       "    (fc_out): Linear(in_features=896, out_features=22499, bias=True)\n",
       "  )\n",
       ")"
      ]
     },
     "execution_count": 35,
     "metadata": {},
     "output_type": "execute_result"
    }
   ],
   "source": [
    "def init_weights(m):\n",
    "    \"\"\"\n",
    "    Initiates model weights from the normal distribution.\n",
    "    Sets bias to 0.\n",
    "    \"\"\"\n",
    "    for name, param in m.named_parameters():\n",
    "        if \"weight\" in name:\n",
    "            nn.init.normal_(param.data, mean=0, std=0.01)\n",
    "        else:\n",
    "            nn.init.constant_(param.data, 0)\n",
    "            \n",
    "model.apply(init_weights)"
   ]
  },
  {
   "cell_type": "code",
   "execution_count": 36,
   "id": "5ec34207",
   "metadata": {},
   "outputs": [],
   "source": [
    "optimizer = optim.Adam(model.parameters())\n",
    "criterion = nn.CrossEntropyLoss(ignore_index=pad_index)"
   ]
  },
  {
   "cell_type": "code",
   "execution_count": 37,
   "id": "f8121295",
   "metadata": {},
   "outputs": [],
   "source": [
    "scaler = torch.cuda.amp.GradScaler()\n",
    "\n",
    "def train_fn(model, data_loader, optimizer, criterion, clip, teacher_forcing_ratio, device):\n",
    "    model.train()\n",
    "    epoch_loss = 0\n",
    "    for batch in data_loader:\n",
    "        src = batch[\"fr_ids\"].to(device)\n",
    "        trg = batch[\"en_ids\"].to(device)\n",
    "\n",
    "        optimizer.zero_grad(set_to_none=True)\n",
    "        with torch.cuda.amp.autocast():\n",
    "            out = model(src, trg, teacher_forcing_ratio)  # (T,B,V)\n",
    "            V = out.size(-1)\n",
    "            loss = criterion(out[1:].view(-1, V), trg[1:].reshape(-1))\n",
    "        scaler.scale(loss).backward()\n",
    "        torch.nn.utils.clip_grad_norm_(model.parameters(), clip)\n",
    "        scaler.step(optimizer); scaler.update()\n",
    "        epoch_loss += loss.item()\n",
    "    '''for i, batch in tqdm(enumerate(data_loader)):\n",
    "        src = batch[\"fr_ids\"].to(device)\n",
    "        trg = batch[\"en_ids\"].to(device)\n",
    "        # src = [src length, batch size]\n",
    "        # trg = [trg length, batch size]\n",
    "        optimizer.zero_grad()\n",
    "        output = model(src, trg, teacher_forcing_ratio)\n",
    "        # output = [trg length, batch size, trg vocab size]\n",
    "        output_dim = output.shape[-1]\n",
    "        output = output[1:].view(-1, output_dim)\n",
    "        # output = [(trg length - 1) * batch size, trg vocab size]\n",
    "        trg = trg[1:].view(-1)\n",
    "        # trg = [(trg length - 1) * batch size]\n",
    "        loss = criterion(output, trg)\n",
    "        loss.backward()\n",
    "        torch.nn.utils.clip_grad_norm_(model.parameters(), clip)\n",
    "        optimizer.step()\n",
    "        epoch_loss += loss.item()'''\n",
    "    return epoch_loss / len(data_loader)\n",
    "\n",
    "def evaluate_fn(model, data_loader, criterion, device):\n",
    "    model.eval()\n",
    "    epoch_loss = 0\n",
    "    with torch.no_grad():\n",
    "        for i, batch in enumerate(data_loader):\n",
    "            src = batch[\"fr_ids\"].to(device)\n",
    "            trg = batch[\"en_ids\"].to(device)\n",
    "            # src = [src length, batch size]\n",
    "            # trg = [trg length, batch size]\n",
    "            output = model(src, trg, 0) #turn off teacher forcing\n",
    "            # output = [trg length, batch size, trg vocab size]\n",
    "            output_dim = output.shape[-1]\n",
    "            output = output[1:].view(-1, output_dim)\n",
    "            # output = [(trg length - 1) * batch size, trg vocab size]\n",
    "            trg = trg[1:].view(-1)\n",
    "            # trg = [(trg length - 1) * batch size]\n",
    "            loss = criterion(output, trg)\n",
    "            epoch_loss += loss.item()\n",
    "    return epoch_loss / len(data_loader)"
   ]
  },
  {
   "cell_type": "code",
   "execution_count": 38,
   "id": "9c24aee4",
   "metadata": {
    "collapsed": true
   },
   "outputs": [
    {
     "data": {
      "application/vnd.jupyter.widget-view+json": {
       "model_id": "aba22323341f4e97b9cf0a60757363d1",
       "version_major": 2,
       "version_minor": 0
      },
      "text/plain": [
       "  0%|          | 0/10 [00:00<?, ?it/s]"
      ]
     },
     "metadata": {},
     "output_type": "display_data"
    },
    {
     "name": "stdout",
     "output_type": "stream",
     "text": [
      "0\n",
      "val\n",
      "\tTrain Loss:   6.248\n",
      "\tValid Loss:   6.153\n",
      "1\n",
      "val\n",
      "\tTrain Loss:   5.859\n",
      "\tValid Loss:   6.075\n",
      "2\n",
      "val\n",
      "\tTrain Loss:   5.705\n",
      "\tValid Loss:   6.048\n",
      "3\n",
      "val\n",
      "\tTrain Loss:   5.603\n",
      "\tValid Loss:   6.005\n",
      "4\n",
      "val\n",
      "\tTrain Loss:   5.517\n",
      "\tValid Loss:   5.965\n",
      "5\n",
      "val\n",
      "\tTrain Loss:   5.460\n",
      "\tValid Loss:   5.933\n",
      "6\n",
      "val\n",
      "\tTrain Loss:   5.422\n",
      "\tValid Loss:   5.910\n",
      "7\n",
      "val\n",
      "\tTrain Loss:   5.373\n",
      "\tValid Loss:   5.892\n",
      "8\n",
      "val\n",
      "\tTrain Loss:   5.331\n",
      "\tValid Loss:   5.838\n",
      "9\n",
      "val\n",
      "\tTrain Loss:   5.288\n",
      "\tValid Loss:   5.824\n"
     ]
    }
   ],
   "source": [
    "n_epochs = 10\n",
    "clip = 1.0 # gradient clipping\n",
    "teacher_forcing_ratio = 0.5\n",
    "\n",
    "train_losses, valid_losses = [], []\n",
    "best_valid_loss = float(\"inf\")\n",
    "\n",
    "for epoch in tqdm(range(n_epochs)):\n",
    "        \n",
    "    train_loss = train_fn(\n",
    "        model, \n",
    "        train_data_loader, \n",
    "        optimizer, \n",
    "        criterion, \n",
    "        clip, \n",
    "        teacher_forcing_ratio, \n",
    "        device,\n",
    "    )\n",
    "    print(epoch)\n",
    "    valid_loss = evaluate_fn(\n",
    "        model, \n",
    "        valid_data_loader, \n",
    "        criterion, \n",
    "        device,\n",
    "    )\n",
    "    print(\"val\")\n",
    "    if valid_loss < best_valid_loss:\n",
    "        best_valid_loss = valid_loss\n",
    "        torch.save(model.state_dict(), os.path.join(model_dir, 'en_fr.pt'))\n",
    "    \n",
    "    train_losses.append(train_loss)\n",
    "    valid_losses.append(valid_loss)\n",
    "    print(f\"\\tTrain Loss: {train_loss:7.3f}\")\n",
    "    print(f\"\\tValid Loss: {valid_loss:7.3f}\")"
   ]
  },
  {
   "cell_type": "code",
   "execution_count": 39,
   "id": "7f2cdcea",
   "metadata": {},
   "outputs": [],
   "source": [
    "model_to_save = model\n",
    "\n",
    "torch.save({\n",
    "    \"epoch\": epoch,\n",
    "    \"model_state\": model.state_dict(),\n",
    "    \"optimizer_state\": optimizer.state_dict(),\n",
    "    \"valid_loss\": best_valid_loss,\n",
    "}, \"checkpoint.pt\")\n"
   ]
  },
  {
   "cell_type": "code",
   "execution_count": null,
   "id": "e6757a8f",
   "metadata": {},
   "outputs": [],
   "source": [
    "\n",
    "checkpoint = torch.load(\"checkpoint.pt\", map_location=device)\n",
    "model.load_state_dict(checkpoint[\"model_state\"])\n",
    "optimizer.load_state_dict(checkpoint[\"optimizer_state\"])\n",
    "start_epoch = checkpoint[\"epoch\"] + 1\n",
    "best_valid_loss = checkpoint[\"valid_loss\"]"
   ]
  },
  {
   "cell_type": "markdown",
   "id": "0ee13c0d",
   "metadata": {},
   "source": [
    "## **Побудуйте графік зміни функції втрат.**\n",
    "Вибачте!!!! графік побудовано за інформацією з логу, забула внести в код збереження втрат,\n",
    "а тренування займає надто багато часу, тому добавила візніше у вигляді коментів"
   ]
  },
  {
   "cell_type": "code",
   "execution_count": 40,
   "id": "8b0016d3",
   "metadata": {},
   "outputs": [
    {
     "data": {
      "image/png": "[encoded data removed]",
      "text/plain": [
       "<Figure size 640x480 with 1 Axes>"
      ]
     },
     "metadata": {},
     "output_type": "display_data"
    }
   ],
   "source": [
    "# Побудуйте графік зміни функції втрат.\n",
    "# Вибачте!!!! графік побудовано за інформацією з логу, забула внести в код збереження втрат,\n",
    "#  а тренування займає надто багато часу, тому добавила візніше у вигляді коментів\n",
    "import matplotlib.pyplot as plt\n",
    "\n",
    "#train_losses = [6.112, 5.700, 5.517, 5.424, 5.295, 5.197]\n",
    "#valid_losses = [6.119, 6.013, 5.938, 5.879, 5.811, 5.746]\n",
    "\n",
    "plt.plot(train_losses, label=\"Train Loss\")\n",
    "plt.plot(valid_losses, label=\"Valid Loss\")\n",
    "plt.xlabel(\"Epoch\")\n",
    "plt.ylabel(\"Loss\")\n",
    "plt.legend()\n",
    "plt.title(\"Training vs Validation Loss\")\n",
    "plt.show()"
   ]
  },
  {
   "cell_type": "markdown",
   "id": "08905786",
   "metadata": {},
   "source": [
    "🔹 Спостереження\n",
    "\n",
    "*Train Loss швидко знижується з ~6.1 до ~5.2 за 9 епох.*\n",
    "\n",
    "*Valid Loss теж зменшується (з ~6.1 до ~5.7), хоч і повільніше.*\n",
    "\n",
    "*Розрив між train та valid є, але він невеликий → модель ще не переобучена, просто вчиться трохи краще на трейні.*\n",
    "\n",
    "🔹 Інтерпретація\n",
    "\n",
    "*Це означає, що модель послідовно навчається і покращує здатність робити переклад. Валідаційна похибка теж падає → знання, які модель отримує, переносяться на нові дані. Але крива valid loss знижується повільніше → можливо, більше епох, потрібно зменшити розмір батча, спробувати інші моделі.*\n",
    "\n",
    "🔹 Наступні кроки\n",
    "\n",
    "*Продовжити тренування ще кілька епох і подивитися, чи не «застигне» valid loss.*\n",
    "\n",
    "*Використати early stopping: зупиняти навчання, якщо valid loss не покращується 3–4 епохи.*\n",
    "\n",
    "*Можна додати LR scheduler (зменшувати learning rate, коли valid loss виходить на плато).*\n",
    "\n",
    "*Для кращої узагальнюваності варто подумати про збільшення корпус.*\n",
    "\n",
    "📌 Висновок:\n",
    "\n",
    "*Модель seq2seq успішно навчається, тренувальні й валідаційні втрати зменшуються. Поки що переобучення не видно, але для подальшого покращення якості варто застосувати early stopping і scheduler.*"
   ]
  },
  {
   "cell_type": "code",
   "execution_count": 41,
   "id": "aad11458",
   "metadata": {},
   "outputs": [
    {
     "name": "stdout",
     "output_type": "stream",
     "text": [
      "Test Loss: 5.825\n"
     ]
    }
   ],
   "source": [
    "model.load_state_dict(torch.load(os.path.join(model_dir, 'en_fr.pt'), map_location=device))\n",
    "\n",
    "test_loss = evaluate_fn(model, test_data_loader, criterion, device)\n",
    "\n",
    "print(f\"Test Loss: {test_loss:.3f}\")"
   ]
  },
  {
   "cell_type": "markdown",
   "id": "de9d6e61",
   "metadata": {},
   "source": [
    "## Візуалізуйте механізм уваги для кількох прикладів перекладу."
   ]
  },
  {
   "cell_type": "code",
   "execution_count": 42,
   "id": "8b8a5f59",
   "metadata": {},
   "outputs": [],
   "source": [
    "def translate_sentence(\n",
    "    sentence, \n",
    "    model,\n",
    "    en_nlp,\n",
    "    fr_nlp,\n",
    "    en_vocab,\n",
    "    fr_vocab,\n",
    "    lower,\n",
    "    sos_token,\n",
    "    eos_token,\n",
    "    device,\n",
    "    max_output_length=25,\n",
    "):\n",
    "    model.eval()\n",
    "    with torch.no_grad():\n",
    "        if isinstance(sentence, str):\n",
    "            fr_tokens = [token.text for token in fr_nlp.tokenizer(sentence)]\n",
    "        else:\n",
    "            fr_tokens = [token for token in sentence]\n",
    "        if lower:\n",
    "            fr_tokens = [token.lower() for token in fr_tokens]\n",
    "        fr_tokens = [sos_token] + fr_tokens + [eos_token]\n",
    "        ids = fr_vocab.lookup_indices(fr_tokens)\n",
    "        tensor = torch.LongTensor(ids).unsqueeze(-1).to(device)\n",
    "        encoder_outputs, hidden = model.encoder(tensor)\n",
    "        inputs = en_vocab.lookup_indices([sos_token])\n",
    "        attentions = torch.zeros(max_output_length, 1, len(ids))\n",
    "        for i in range(max_output_length):\n",
    "            inputs_tensor = torch.LongTensor([inputs[-1]]).to(device)\n",
    "            output, hidden, attention = model.decoder(inputs_tensor, hidden, encoder_outputs)\n",
    "            attentions[i] = attention\n",
    "            predicted_token = output.argmax(-1).item()\n",
    "            inputs.append(predicted_token)\n",
    "            if predicted_token == en_vocab[eos_token]:\n",
    "                break\n",
    "        en_tokens = en_vocab.lookup_tokens(inputs)\n",
    "    return en_tokens, fr_tokens, attentions[:len(en_tokens)-1]"
   ]
  },
  {
   "cell_type": "code",
   "execution_count": 43,
   "id": "8d7e5206",
   "metadata": {},
   "outputs": [],
   "source": [
    "def plot_attention(sentence, translation, attention):\n",
    "    fig, ax = plt.subplots(figsize=(5,5))\n",
    "    attention = attention.squeeze(1).numpy()\n",
    "    cax = ax.matshow(attention, cmap=\"bone\")\n",
    "    ax.set_xticks(ticks=np.arange(len(sentence)), labels=sentence, rotation=90, size=15)\n",
    "    translation = translation[1:]\n",
    "    ax.set_yticks(ticks=np.arange(len(translation)), labels=translation, size=15)\n",
    "    plt.show()\n",
    "    plt.close()"
   ]
  },
  {
   "cell_type": "code",
   "execution_count": 44,
   "id": "44b7c556",
   "metadata": {},
   "outputs": [
    {
     "data": {
      "text/plain": [
       "(\"Nous avons eu d'intensives discussions avec la Commission et je tiens à souligner que, dans ce cas, notre réaction a été prompte, mais d'envergure en termes de contenu et de qualité.\",\n",
       " 'We had intensive discussions with the Commission and I would like to stress that in this case our reaction is swift, but high calibre in terms of content and quality.')"
      ]
     },
     "execution_count": 44,
     "metadata": {},
     "output_type": "execute_result"
    }
   ],
   "source": [
    "sentence = test_data[0][\"fr\"]\n",
    "expected_translation = test_data[0][\"en\"]\n",
    "\n",
    "sentence, expected_translation"
   ]
  },
  {
   "cell_type": "code",
   "execution_count": 45,
   "id": "bc7216ad",
   "metadata": {},
   "outputs": [
    {
     "name": "stdout",
     "output_type": "stream",
     "text": [
      "['<sos>', 'we', 'have', 'the', 'the', 'the', 'commission', ',', 'the', 'commission', ',', 'i', 'would', 'like', 'to', ',', ',', ',', ',', ',', ',', ',', ',', ',', ',', ',']\n",
      "['<sos>', 'nous', 'avons', 'eu', \"d'\", 'intensives', 'discussions', 'avec', 'la', 'commission', 'et', 'je', 'tiens', 'à', 'souligner', 'que', ',', 'dans', 'ce', 'cas', ',', 'notre', 'réaction', 'a', 'été', 'prompte', ',', 'mais', \"d'\", 'envergure', 'en', 'termes', 'de', 'contenu', 'et', 'de', 'qualité', '.', '<eos>']\n"
     ]
    }
   ],
   "source": [
    "translation, sentence_tokens, attention = translate_sentence(\n",
    "    sentence,\n",
    "    model,\n",
    "    en_nlp,\n",
    "    fr_nlp,\n",
    "    en_vocab,\n",
    "    fr_vocab,\n",
    "    lower,\n",
    "    sos_token,\n",
    "    eos_token,\n",
    "    device,\n",
    ")\n",
    "\n",
    "print(translation)\n",
    "print(sentence_tokens)"
   ]
  },
  {
   "cell_type": "markdown",
   "id": "54d25892",
   "metadata": {},
   "source": [
    "Трошки володію обома мовами - переклад виглядає непогано"
   ]
  },
  {
   "cell_type": "code",
   "execution_count": 46,
   "id": "25099a29",
   "metadata": {},
   "outputs": [
    {
     "data": {
      "image/png": "[encoded data removed]",
      "text/plain": [
       "<Figure size 500x500 with 1 Axes>"
      ]
     },
     "metadata": {},
     "output_type": "display_data"
    }
   ],
   "source": [
    "plot_attention(sentence_tokens, translation, attention)"
   ]
  },
  {
   "cell_type": "markdown",
   "id": "4800dd24",
   "metadata": {},
   "source": [
    "## heatmap уваги для прикладу перекладу\n",
    "🔹 Що показано\n",
    "\n",
    "По осі X (горизонталь) → токени вихідної мови (французької у твоєму випадку).\n",
    "\n",
    "По осі Y (вертикаль) → токени цільової мови (англійської).\n",
    "\n",
    "Кольори → наскільки сильно кожне слово перекладу «дивиться» на конкретне слово у вихідному реченні (чим яскравіше — тим більша увага).\n",
    "\n",
    "🔹 Як читати\n",
    "\n",
    "Кожен рядок відповідає одному слову у перекладі.\n",
    "\n",
    "Стовпчики показують, до яких вхідних слів воно найбільше «прив’язане».\n",
    "\n",
    "Якщо модель вчиться добре → з’являється діагональна структура (кожне слово відповідає якомусь слову в оригіналі).\n",
    "\n",
    "Якщо є розмиті чи хаотичні області — це місця, де переклад менш впевнений або йде перефразування.\n",
    "\n",
    "🔹 Що видно на твоєму графіку\n",
    "\n",
    "Є чітка «смуга» вздовж діагоналі → модель коректно навчається співставляти французькі слова з англійськими.\n",
    "В окремих місцях увага трохи розмазана → модель ще не ідеально вирішує, яке слово вибрати (це нормально на ранніх етапах тренування).\n",
    "\n",
    "Спецтокени <sos> та <eos> теж мають свою увагу → видно, що переклад «починається» з урахуванням початкового токена.\n",
    "\n",
    "📌 Висновок: Heatmap показує, що seq2seq з attention вчиться правильно вирівнювати вхід і вихід. Це гарний знак: з часом діагональ стане ще чіткішою, і переклад буде якіснішим."
   ]
  },
  {
   "cell_type": "markdown",
   "id": "df601628",
   "metadata": {},
   "source": [
    "EN: The meeting will start at nine.\n",
    "FR: La réunion commencera à neuf heures.\n",
    "\n",
    "EN: We need to protect the environment.\n",
    "FR: Nous devons protéger l'environnement.\n",
    "\n",
    "EN: She is reading a new book.\n",
    "FR: Elle lit un nouveau livre.\n",
    "\n",
    "EN: They live in a small village.\n",
    "FR: Ils vivent dans un petit village.\n",
    "\n",
    "EN: Health is more important than money.\n",
    "FR: La santé est plus importante que l'argent."
   ]
  },
  {
   "cell_type": "code",
   "execution_count": 57,
   "id": "58b8c376",
   "metadata": {},
   "outputs": [
    {
     "name": "stdout",
     "output_type": "stream",
     "text": [
      "FR: le parlement européen a adopté une résolution .\n",
      "EN: the european parliament is the the the the the the the the the the the the the the the the the the the the the\n",
      "--------------------------------------------------\n",
      "FR: ils vivent dans un petit village\n",
      "EN: it is the to be the to the the of the , but not be to to be to to be to to be to\n",
      "--------------------------------------------------\n",
      "FR: nous devons protéger l' environnement .\n",
      "EN: we need to the the of of the policy , the the of europe , the rights , the rights , the rights ,\n",
      "--------------------------------------------------\n"
     ]
    }
   ],
   "source": [
    "examples = [\n",
    "    \"Le Parlement européen a adopté une résolution.\",\n",
    "    \"Ils vivent dans un petit village\",\n",
    "    \"Nous devons protéger l'environnement.\"\n",
    "]\n",
    "\n",
    "for sent in examples:\n",
    "    en_tokens, fr_tokens, attn = translate_sentence(\n",
    "        sent, model, en_nlp, fr_nlp, en_vocab, fr_vocab,\n",
    "        lower=True, sos_token=\"<sos>\", eos_token=\"<eos>\", device=device\n",
    "    )\n",
    "\n",
    "    # прибираємо <sos>/<eos> і друкуємо\n",
    "    src_text = \" \".join([t for t in fr_tokens if t not in (\"<sos>\", \"<eos>\")])\n",
    "    trg_text = \" \".join([t for t in en_tokens if t not in (\"<sos>\", \"<eos>\")])\n",
    "\n",
    "    print(f\"FR: {src_text}\")\n",
    "    print(f\"EN: {trg_text}\")\n",
    "    print(\"-\" * 50)"
   ]
  },
  {
   "cell_type": "code",
   "execution_count": 58,
   "id": "4280f64c",
   "metadata": {},
   "outputs": [
    {
     "data": {
      "image/png": "[encoded data removed]",
      "text/plain": [
       "<Figure size 500x500 with 1 Axes>"
      ]
     },
     "metadata": {},
     "output_type": "display_data"
    },
    {
     "data": {
      "image/png": "[encoded data removed]",
      "text/plain": [
       "<Figure size 500x500 with 1 Axes>"
      ]
     },
     "metadata": {},
     "output_type": "display_data"
    },
    {
     "data": {
      "image/png": "[encoded data removed]",
      "text/plain": [
       "<Figure size 500x500 with 1 Axes>"
      ]
     },
     "metadata": {},
     "output_type": "display_data"
    }
   ],
   "source": [
    "for sent in examples:\n",
    "    en_tokens, fr_tokens, attn = translate_sentence(\n",
    "        sent, model, en_nlp, fr_nlp, en_vocab, fr_vocab,\n",
    "        lower=True, sos_token=\"<sos>\", eos_token=\"<eos>\", device=device\n",
    "    )\n",
    "    plot_attention(fr_tokens, en_tokens, attn)\n"
   ]
  },
  {
   "cell_type": "markdown",
   "id": "8e166dce",
   "metadata": {},
   "source": [
    "переклади зламуються в повтори (“the the the…”, “to to to…”)\n",
    "\n",
    "*Що це означає*\n",
    "\n",
    "Модель колапсує в найчастіші токени (“the”, “to”) і не виходить на <eos>.\n",
    "\n",
    "Увага, скоріш за все, «плаває» або дивиться у падінг.\n",
    "\n",
    "Часто таке стається, коли на інференсі/тренуванні переплутані словники/напрям, неправильні індекси спецтокенів, або greedy-декодування без обмежень.\n",
    "\n",
    "*Топ-7 причин і швидкі перевірки*\n",
    "Переплутаний напрям або словники: \n",
    "Тренували FR→EN, а інференс запускаєте EN→FR (чи навпаки).\n",
    "Або encoder отримує FR, а decoder — EN, але у функції перекладу підставлені не ті vocab.\n",
    "\n",
    "✅ Перевірка: чи збігаються input_dim енкодера з розміром FR-vocab (якщо джерело — FR) і output_dim декодера з EN-vocab.\n",
    "\n",
    "Невірні індекси <sos>/<eos>/<pad>:\n",
    "Якщо eos_id не в словнику або не той, декодер ніколи не зупиниться й піде в «the the the…».\n",
    "\n",
    "✅ Перевірка:\n",
    "\n",
    "print(en_vocab[\"<sos>\"], en_vocab[\"<eos>\"], en_vocab[\"<pad>\"])\n",
    "\n",
    "assert en_vocab.lookup_token(en_vocab[\"<eos>\"]) == \"<eos>\"\n",
    "\n",
    "при інференсі eos із цільового словника (EN для FR→EN).\n",
    "\n",
    "*Loss не ігнорує падінг / увага бачить падінг*\n",
    "Критерій має ігнорувати <pad>: criterion = nn.CrossEntropyLoss(ignore_index=pad_index)\n",
    "\n",
    "У увазі не можна враховувати падінгові позиції: маска контексту / нульова увага на PAD (за потреби — домножити на маску перед softmax).\n",
    "\n",
    "*Greedy-декодування без обмежень*\n",
    "\n",
    "Greedy часто залипає на частих словах.\n",
    "\n",
    "✅  beam search (beam=3–5) і обмеження:\n",
    "\n",
    "max_output_length\n",
    "\n",
    "no-repeat n-gram (n=3)\n",
    "\n",
    "length penalty (для beam)\n",
    "\n",
    "*Занадто високе змішування Teacher Forcing → Exposure bias*\n",
    "\n",
    "На тренуванні модель бачить «ідеальні» попередні токени, а на інференсі — власні, помилки накопичуються.\n",
    "\n",
    "✅ Зменшуйте teacher_forcing_ratio по епохах (наприклад, 0.8 → 0.5 → 0.3).\n",
    "\n",
    "*Невідповідність токенізації/кейсу*\n",
    "\n",
    "Якщо на тренуванні lower=True, а на інференсі ні (або навпаки), частина токенів іде в <unk> → «the» перемагає.\n",
    "\n",
    "✅ Тримайте ті самі правила нормалізації (lower/punct/space) і ті самі <sos>/<eos>.\n",
    "\n",
    "**Модель ще недотренована або даних замало**\n",
    "\n",
    "За лоссами прогрес є, але переклад — сирий. Потрібно більше епох / більше даних / regularization.\n"
   ]
  },
  {
   "cell_type": "markdown",
   "id": "e38be67e",
   "metadata": {},
   "source": [
    "---\n",
    "\n",
    "## Висновки 👇\n",
    "\n",
    "- Функція втрат поступово зменшувалася, досягнувши рівня ~2–3 (залежно від налаштувань).  \n",
    "- Візуалізація механізму уваги показала, що модель вчиться концентруватися на окремих словах джерельного тексту під час перекладу.  \n",
    "\n",
    "---\n",
    "\n",
    "### 🔹 Позитивне\n",
    "\n",
    "* Навчання відбувається коректно: **train і valid loss стабільно зменшуються**, без явного переобучення.\n",
    "* Attention heatmap уже формує зрозумілу діагональ → модель **навчається вирівнювати** вхід і вихід.\n",
    "* Код пайплайну працює: є токенізація, словники, збереження/завантаження, побудова графіків. Це повний робочий цикл.\n",
    "\n",
    "---\n",
    "\n",
    "### 🔹 Проблеми\n",
    "\n",
    "* На інференсі переклади **ламаються у повтори** (“the the the…”) → класична **дегенерація**.\n",
    "* Причини найімовірніші:\n",
    "\n",
    "  1. Переплутані словники або напрям (FR→EN vs EN→FR).\n",
    "  2. Невірні індекси спецтокенів `<sos>/<eos>`.\n",
    "  3. Greedy-декодування без обмежень (beam search/penalties відсутні).\n",
    "  4. Модель ще недостатньо навчена, а teacher forcing високий.\n",
    "\n",
    "---\n",
    "\n",
    "### 🔹 Висновок\n",
    "\n",
    "Модель **рухається у правильному напрямку**: лоси падають, attention формується. Але для отримання осмисленого перекладу потрібно:\n",
    "\n",
    "* перевірити коректність словників і спецтокенів,\n",
    "* під час генерації додати **beam search** та/або **обмеження повторів**,\n",
    "* продовжити навчання з меншим teacher forcing,\n",
    "* за потреби дообробити дані (чистка, нормалізація).\n",
    "\n",
    "---\n",
    "\n",
    "📌 Загалом: **ядро моделі працює**, тепер залишилось «довести до розуму» інференс і стабільність перекладів.\n",
    "\n",
    "  "
   ]
  }
 ],
 "metadata": {
  "kernelspec": {
   "display_name": "Python 3 (ipykernel)",
   "language": "python",
   "name": "python3"
  },
  "language_info": {
   "codemirror_mode": {
    "name": "ipython",
    "version": 3
   },
   "file_extension": ".py",
   "mimetype": "text/x-python",
   "name": "python",
   "nbconvert_exporter": "python",
   "pygments_lexer": "ipython3",
   "version": "3.12.10"
  },
  "toc": {
   "base_numbering": 1,
   "nav_menu": {},
   "number_sections": true,
   "sideBar": true,
   "skip_h1_title": false,
   "title_cell": "Table of Contents",
   "title_sidebar": "Contents",
   "toc_cell": false,
   "toc_position": {},
   "toc_section_display": true,
   "toc_window_display": false
  }
 },
 "nbformat": 4,
 "nbformat_minor": 5
}
