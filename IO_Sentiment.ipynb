{
 "cells": [
  {
   "cell_type": "markdown",
   "id": "7f5ad182",
   "metadata": {},
   "source": [
    "\n",
    "---\n",
    "\n",
    "```markdown\n",
    "# Завдання проєкту: Класифікація текстів (Sentiment Analysis)\n",
    "\n",
    "## Мета\n",
    "Розробити та порівняти кілька моделей класифікації текстів за тональністю.  \n",
    "Дослідити, як попередня обробка даних, гіперпараметри та архітектура моделі впливають на точність.\n",
    "\n",
    "---\n",
    "\n",
    "## Дані\n",
    "- Вхідні дані: тексти та відповідні мітки тональності (`negative`, `neutral`, `positive`).  \n",
    "- Розподіл на спліти:\n",
    "  - Train: 21,985 прикладів  \n",
    "  - Validation: 5,496 прикладів  \n",
    "  - Test: 3,534 приклади (без міток, використовується для сабмішну)  \n",
    "\n",
    "---\n",
    "\n",
    "## Етапи роботи\n",
    "\n",
    "### 1. Попередня обробка\n",
    "- Перевірка та нормалізація текстів (лематизація, видалення стоп-слів).  \n",
    "- Для BERT від нормалізації відмовились, оскільки вона знижувала якість: модель втрачала контекст.  \n",
    "\n",
    "### 2. Базова модель: Логістична регресія\n",
    "- Використано Bag-of-Words / TF-IDF ознаки.  \n",
    "- Результат: дуже низька точність на валідації.  \n",
    "- Висновок: модель не змогла якісно врахувати контекст, проте як «baseline» була корисною.  \n",
    "\n",
    "### 3. Модель BERT (DistilBERT)\n",
    "- Використано `distilbert-base-uncased` з HuggingFace Transformers.  \n",
    "- Токенізація: `max_length=256` (також експерименти з 384 та 512).  \n",
    "- Використано `Trainer` з параметрами:\n",
    "  - Batch size: 32 (підбір розміру мав найбільший вплив на точність).\n",
    "  - Learning rate: 2e-5 → експерименти з 1e-5.\n",
    "  - Epochs: 10–15 з EarlyStopping.  \n",
    "- Метрика: Accuracy + F1.  \n",
    "\n",
    "### 4. Баланс класів\n",
    "- Перевірено дисбаланс у train.  \n",
    "- Реалізовано варіант з **class weights** через кастомний `WeightedLossTrainer`.  \n",
    "\n",
    "---\n",
    "\n",
    "## Результати\n",
    "- **Логістична регресія**: дуже низькі результати (baseline).  \n",
    "- **DistilBERT**: ~0.79 accuracy на валідації.  \n",
    "- Найкращі результати дали:\n",
    "  - Відмова від нормалізації текстів.  \n",
    "  - Підібраний розмір batch.  \n",
    "  - EarlyStopping для запобігання оверфіту.  \n",
    "\n",
    "---\n",
    "\n",
    "## Висновки\n",
    "- Простих моделей (логістична регресія) недостатньо для задачі, де важливий контекст.  \n",
    "- BERT вимагає більше ресурсів, але показує суттєво кращу якість.  \n",
    "- Головні фактори впливу:\n",
    "  - Розмір batch.\n",
    "  - Використання/невикористання нормалізації.\n",
    "  - Гіперпараметри оптимізатора.  \n",
    "- Модель готова для сабмішну, використано чекпоінт з найкращою валідаційною точністю.\n",
    "\n",
    "---\n",
    "\n",
    "## Наступні кроки\n",
    "- Спробувати інші архітектури (`bert-base`, `roberta-base`).  \n",
    "- Збільшити `max_length`, якщо тексти довші.  \n",
    "- Дослідити data augmentation для покращення узагальнення.  \n",
    "```\n",
    "\n",
    "---"
   ]
  },
  {
   "cell_type": "code",
   "execution_count": 1,
   "id": "ec6210c0",
   "metadata": {},
   "outputs": [],
   "source": [
    "#! pip install tensorflow"
   ]
  },
  {
   "cell_type": "code",
   "execution_count": 2,
   "id": "7e54d9aa",
   "metadata": {},
   "outputs": [],
   "source": [
    "#! pip install transformers"
   ]
  },
  {
   "cell_type": "code",
   "execution_count": 3,
   "id": "d74f1c84",
   "metadata": {},
   "outputs": [],
   "source": [
    "#! pip install nltk"
   ]
  },
  {
   "cell_type": "code",
   "execution_count": 4,
   "id": "e1446ead",
   "metadata": {},
   "outputs": [],
   "source": [
    "#! pip install spacy"
   ]
  },
  {
   "cell_type": "code",
   "execution_count": 5,
   "id": "ee973247",
   "metadata": {},
   "outputs": [],
   "source": [
    "#! pip install seaborn"
   ]
  },
  {
   "cell_type": "code",
   "execution_count": 6,
   "id": "8a8ee8a8",
   "metadata": {},
   "outputs": [
    {
     "name": "stderr",
     "output_type": "stream",
     "text": [
      "[nltk_data] Downloading package stopwords to\n",
      "[nltk_data]     /teamspace/studios/this_studio/nltk_data...\n",
      "[nltk_data]   Package stopwords is already up-to-date!\n"
     ]
    },
    {
     "data": {
      "text/plain": [
       "True"
      ]
     },
     "execution_count": 6,
     "metadata": {},
     "output_type": "execute_result"
    }
   ],
   "source": [
    "import re\n",
    "import os\n",
    "import string\n",
    "import itertools\n",
    "from collections import Counter\n",
    "\n",
    "import pandas as pd\n",
    "import numpy as np\n",
    "\n",
    "from nltk.corpus import stopwords\n",
    "from nltk.tokenize import word_tokenize\n",
    "from nltk.stem.porter import PorterStemmer\n",
    "\n",
    "import spacy\n",
    "\n",
    "from tqdm.auto import tqdm\n",
    "tqdm.pandas()\n",
    "\n",
    "import matplotlib.pyplot as plt\n",
    "\n",
    "from sklearn.metrics import accuracy_score\n",
    "\n",
    "from sklearn.model_selection import train_test_split\n",
    "from datasets import Dataset, DatasetDict\n",
    "from transformers import (AutoTokenizer, AutoModelForSequenceClassification,\n",
    "                          DataCollatorWithPadding, TrainingArguments, Trainer)\n",
    "import evaluate\n",
    "import torch\n",
    "#from tensorflow.keras.models import Sequential\n",
    "#from tensorflow.keras.layers import Embedding, LSTM, Dense\n",
    "#from tensorflow.keras.preprocessing.text import Tokenizer\n",
    "import torch\n",
    "from sklearn.linear_model import LogisticRegression, RidgeClassifier, SGDClassifier\n",
    "from sklearn.svm import LinearSVC\n",
    "from sklearn.ensemble import RandomForestClassifier, GradientBoostingClassifier\n",
    "from transformers import AutoTokenizer, AutoModelForSequenceClassification\n",
    "\n",
    "import nltk\n",
    "nltk.download('stopwords')"
   ]
  },
  {
   "cell_type": "code",
   "execution_count": 7,
   "id": "a698bc97",
   "metadata": {},
   "outputs": [
    {
     "name": "stdout",
     "output_type": "stream",
     "text": [
      "Train shape: (27481, 3)\n"
     ]
    },
    {
     "data": {
      "text/html": [
       "<div>\n",
       "<style scoped>\n",
       "    .dataframe tbody tr th:only-of-type {\n",
       "        vertical-align: middle;\n",
       "    }\n",
       "\n",
       "    .dataframe tbody tr th {\n",
       "        vertical-align: top;\n",
       "    }\n",
       "\n",
       "    .dataframe thead th {\n",
       "        text-align: right;\n",
       "    }\n",
       "</style>\n",
       "<table border=\"1\" class=\"dataframe\">\n",
       "  <thead>\n",
       "    <tr style=\"text-align: right;\">\n",
       "      <th></th>\n",
       "      <th>ID</th>\n",
       "      <th>text</th>\n",
       "      <th>sentiment</th>\n",
       "    </tr>\n",
       "  </thead>\n",
       "  <tbody>\n",
       "    <tr>\n",
       "      <th>0</th>\n",
       "      <td>cb774db0d1</td>\n",
       "      <td>I`d have responded, if I were going</td>\n",
       "      <td>neutral</td>\n",
       "    </tr>\n",
       "    <tr>\n",
       "      <th>1</th>\n",
       "      <td>549e992a42</td>\n",
       "      <td>Sooo SAD I will miss you here in San Diego!!!</td>\n",
       "      <td>negative</td>\n",
       "    </tr>\n",
       "    <tr>\n",
       "      <th>2</th>\n",
       "      <td>088c60f138</td>\n",
       "      <td>my boss is bullying me...</td>\n",
       "      <td>negative</td>\n",
       "    </tr>\n",
       "    <tr>\n",
       "      <th>3</th>\n",
       "      <td>9642c003ef</td>\n",
       "      <td>what interview! leave me alone</td>\n",
       "      <td>negative</td>\n",
       "    </tr>\n",
       "    <tr>\n",
       "      <th>4</th>\n",
       "      <td>358bd9e861</td>\n",
       "      <td>Sons of ****, why couldn`t they put them on t...</td>\n",
       "      <td>negative</td>\n",
       "    </tr>\n",
       "  </tbody>\n",
       "</table>\n",
       "</div>"
      ],
      "text/plain": [
       "           ID                                               text sentiment\n",
       "0  cb774db0d1                I`d have responded, if I were going   neutral\n",
       "1  549e992a42      Sooo SAD I will miss you here in San Diego!!!  negative\n",
       "2  088c60f138                          my boss is bullying me...  negative\n",
       "3  9642c003ef                     what interview! leave me alone  negative\n",
       "4  358bd9e861   Sons of ****, why couldn`t they put them on t...  negative"
      ]
     },
     "metadata": {},
     "output_type": "display_data"
    },
    {
     "name": "stdout",
     "output_type": "stream",
     "text": [
      "Test  shape: (3534, 2)\n"
     ]
    },
    {
     "data": {
      "text/html": [
       "<div>\n",
       "<style scoped>\n",
       "    .dataframe tbody tr th:only-of-type {\n",
       "        vertical-align: middle;\n",
       "    }\n",
       "\n",
       "    .dataframe tbody tr th {\n",
       "        vertical-align: top;\n",
       "    }\n",
       "\n",
       "    .dataframe thead th {\n",
       "        text-align: right;\n",
       "    }\n",
       "</style>\n",
       "<table border=\"1\" class=\"dataframe\">\n",
       "  <thead>\n",
       "    <tr style=\"text-align: right;\">\n",
       "      <th></th>\n",
       "      <th>ID</th>\n",
       "      <th>text</th>\n",
       "    </tr>\n",
       "  </thead>\n",
       "  <tbody>\n",
       "    <tr>\n",
       "      <th>0</th>\n",
       "      <td>f87dea47db</td>\n",
       "      <td>Last session of the day  http://twitpic.com/67ezh</td>\n",
       "    </tr>\n",
       "    <tr>\n",
       "      <th>1</th>\n",
       "      <td>96d74cb729</td>\n",
       "      <td>Shanghai is also really exciting (precisely -...</td>\n",
       "    </tr>\n",
       "    <tr>\n",
       "      <th>2</th>\n",
       "      <td>eee518ae67</td>\n",
       "      <td>Recession hit Veronique Branquinho, she has to...</td>\n",
       "    </tr>\n",
       "    <tr>\n",
       "      <th>3</th>\n",
       "      <td>01082688c6</td>\n",
       "      <td>happy bday!</td>\n",
       "    </tr>\n",
       "    <tr>\n",
       "      <th>4</th>\n",
       "      <td>33987a8ee5</td>\n",
       "      <td>http://twitpic.com/4w75p - I like it!!</td>\n",
       "    </tr>\n",
       "  </tbody>\n",
       "</table>\n",
       "</div>"
      ],
      "text/plain": [
       "           ID                                               text\n",
       "0  f87dea47db  Last session of the day  http://twitpic.com/67ezh\n",
       "1  96d74cb729   Shanghai is also really exciting (precisely -...\n",
       "2  eee518ae67  Recession hit Veronique Branquinho, she has to...\n",
       "3  01082688c6                                        happy bday!\n",
       "4  33987a8ee5             http://twitpic.com/4w75p - I like it!!"
      ]
     },
     "metadata": {},
     "output_type": "display_data"
    },
    {
     "name": "stdout",
     "output_type": "stream",
     "text": [
      "Sample head:\n"
     ]
    },
    {
     "data": {
      "text/html": [
       "<div>\n",
       "<style scoped>\n",
       "    .dataframe tbody tr th:only-of-type {\n",
       "        vertical-align: middle;\n",
       "    }\n",
       "\n",
       "    .dataframe tbody tr th {\n",
       "        vertical-align: top;\n",
       "    }\n",
       "\n",
       "    .dataframe thead th {\n",
       "        text-align: right;\n",
       "    }\n",
       "</style>\n",
       "<table border=\"1\" class=\"dataframe\">\n",
       "  <thead>\n",
       "    <tr style=\"text-align: right;\">\n",
       "      <th></th>\n",
       "      <th>ID</th>\n",
       "      <th>sentiment</th>\n",
       "    </tr>\n",
       "  </thead>\n",
       "  <tbody>\n",
       "    <tr>\n",
       "      <th>0</th>\n",
       "      <td>df9123ga1l</td>\n",
       "      <td>neutral</td>\n",
       "    </tr>\n",
       "    <tr>\n",
       "      <th>1</th>\n",
       "      <td>sa41adl13d</td>\n",
       "      <td>positive</td>\n",
       "    </tr>\n",
       "    <tr>\n",
       "      <th>2</th>\n",
       "      <td>13adskb1da7</td>\n",
       "      <td>negative</td>\n",
       "    </tr>\n",
       "  </tbody>\n",
       "</table>\n",
       "</div>"
      ],
      "text/plain": [
       "            ID sentiment\n",
       "0   df9123ga1l   neutral\n",
       "1   sa41adl13d  positive\n",
       "2  13adskb1da7  negative"
      ]
     },
     "metadata": {},
     "output_type": "display_data"
    }
   ],
   "source": [
    "DATA_DIR = \"./test-task-for-ds-nlp-2025-mds-6\"\n",
    "\n",
    "train_path = os.path.join(DATA_DIR, \"train.csv\")\n",
    "test_path  = os.path.join(DATA_DIR, \"test.csv\")\n",
    "sample_sub = os.path.join(DATA_DIR, \"sample_submission.csv\")\n",
    "\n",
    "train = pd.read_csv(train_path)\n",
    "test  = pd.read_csv(test_path)\n",
    "sample = pd.read_csv(sample_sub)\n",
    "\n",
    "print(\"Train shape:\", train.shape)\n",
    "display(train.head())\n",
    "print(\"Test  shape:\", test.shape)\n",
    "display(test.head())\n",
    "print(\"Sample head:\")\n",
    "display(sample.head())"
   ]
  },
  {
   "cell_type": "code",
   "execution_count": 8,
   "id": "2a7b7f1b",
   "metadata": {},
   "outputs": [
    {
     "data": {
      "text/html": [
       "<div>\n",
       "<style scoped>\n",
       "    .dataframe tbody tr th:only-of-type {\n",
       "        vertical-align: middle;\n",
       "    }\n",
       "\n",
       "    .dataframe tbody tr th {\n",
       "        vertical-align: top;\n",
       "    }\n",
       "\n",
       "    .dataframe thead th {\n",
       "        text-align: right;\n",
       "    }\n",
       "</style>\n",
       "<table border=\"1\" class=\"dataframe\">\n",
       "  <thead>\n",
       "    <tr style=\"text-align: right;\">\n",
       "      <th></th>\n",
       "      <th>ID</th>\n",
       "      <th>text</th>\n",
       "      <th>sentiment</th>\n",
       "    </tr>\n",
       "  </thead>\n",
       "  <tbody>\n",
       "    <tr>\n",
       "      <th>0</th>\n",
       "      <td>cb774db0d1</td>\n",
       "      <td>I`d have responded, if I were going</td>\n",
       "      <td>neutral</td>\n",
       "    </tr>\n",
       "    <tr>\n",
       "      <th>1</th>\n",
       "      <td>549e992a42</td>\n",
       "      <td>Sooo SAD I will miss you here in San Diego!!!</td>\n",
       "      <td>negative</td>\n",
       "    </tr>\n",
       "    <tr>\n",
       "      <th>2</th>\n",
       "      <td>088c60f138</td>\n",
       "      <td>my boss is bullying me...</td>\n",
       "      <td>negative</td>\n",
       "    </tr>\n",
       "  </tbody>\n",
       "</table>\n",
       "</div>"
      ],
      "text/plain": [
       "           ID                                            text sentiment\n",
       "0  cb774db0d1             I`d have responded, if I were going   neutral\n",
       "1  549e992a42   Sooo SAD I will miss you here in San Diego!!!  negative\n",
       "2  088c60f138                       my boss is bullying me...  negative"
      ]
     },
     "execution_count": 8,
     "metadata": {},
     "output_type": "execute_result"
    }
   ],
   "source": [
    "# Dataset preview\n",
    "\n",
    "train.head(3)"
   ]
  },
  {
   "cell_type": "code",
   "execution_count": 9,
   "id": "b962ca60",
   "metadata": {},
   "outputs": [
    {
     "name": "stdout",
     "output_type": "stream",
     "text": [
      "<class 'pandas.core.frame.DataFrame'>\n",
      "RangeIndex: 27481 entries, 0 to 27480\n",
      "Data columns (total 3 columns):\n",
      " #   Column     Non-Null Count  Dtype \n",
      "---  ------     --------------  ----- \n",
      " 0   ID         27481 non-null  object\n",
      " 1   text       27480 non-null  object\n",
      " 2   sentiment  27481 non-null  object\n",
      "dtypes: object(3)\n",
      "memory usage: 644.2+ KB\n"
     ]
    }
   ],
   "source": [
    "# Basic dataset info \n",
    "\n",
    "train.info()"
   ]
  },
  {
   "cell_type": "code",
   "execution_count": 10,
   "id": "dba970b6",
   "metadata": {},
   "outputs": [],
   "source": [
    "train['sentiment_num'] = train['sentiment'].map({\n",
    "    'positive' : 2,\n",
    "    'neutral' : 1,\n",
    "    'negative' : 0\n",
    "})"
   ]
  },
  {
   "cell_type": "code",
   "execution_count": 11,
   "id": "93edb6a1",
   "metadata": {},
   "outputs": [],
   "source": [
    "neutral_idx = train.index[train[\"sentiment_num\"] == 1].tolist()\n",
    "np.random.seed(42)\n",
    "remove_idx = np.random.choice(neutral_idx, size=2500, replace=False)\n",
    "\n",
    "train = train.drop(remove_idx)"
   ]
  },
  {
   "cell_type": "code",
   "execution_count": 12,
   "id": "c0d3cf20",
   "metadata": {},
   "outputs": [
    {
     "data": {
      "text/html": [
       "<div>\n",
       "<style scoped>\n",
       "    .dataframe tbody tr th:only-of-type {\n",
       "        vertical-align: middle;\n",
       "    }\n",
       "\n",
       "    .dataframe tbody tr th {\n",
       "        vertical-align: top;\n",
       "    }\n",
       "\n",
       "    .dataframe thead th {\n",
       "        text-align: right;\n",
       "    }\n",
       "</style>\n",
       "<table border=\"1\" class=\"dataframe\">\n",
       "  <thead>\n",
       "    <tr style=\"text-align: right;\">\n",
       "      <th></th>\n",
       "      <th>ID</th>\n",
       "      <th>text</th>\n",
       "      <th>sentiment</th>\n",
       "      <th>sentiment_num</th>\n",
       "    </tr>\n",
       "  </thead>\n",
       "  <tbody>\n",
       "    <tr>\n",
       "      <th>1</th>\n",
       "      <td>549e992a42</td>\n",
       "      <td>Sooo SAD I will miss you here in San Diego!!!</td>\n",
       "      <td>negative</td>\n",
       "      <td>0</td>\n",
       "    </tr>\n",
       "    <tr>\n",
       "      <th>2</th>\n",
       "      <td>088c60f138</td>\n",
       "      <td>my boss is bullying me...</td>\n",
       "      <td>negative</td>\n",
       "      <td>0</td>\n",
       "    </tr>\n",
       "    <tr>\n",
       "      <th>3</th>\n",
       "      <td>9642c003ef</td>\n",
       "      <td>what interview! leave me alone</td>\n",
       "      <td>negative</td>\n",
       "      <td>0</td>\n",
       "    </tr>\n",
       "    <tr>\n",
       "      <th>4</th>\n",
       "      <td>358bd9e861</td>\n",
       "      <td>Sons of ****, why couldn`t they put them on t...</td>\n",
       "      <td>negative</td>\n",
       "      <td>0</td>\n",
       "    </tr>\n",
       "    <tr>\n",
       "      <th>5</th>\n",
       "      <td>28b57f3990</td>\n",
       "      <td>http://www.dothebouncy.com/smf - some shameles...</td>\n",
       "      <td>neutral</td>\n",
       "      <td>1</td>\n",
       "    </tr>\n",
       "  </tbody>\n",
       "</table>\n",
       "</div>"
      ],
      "text/plain": [
       "           ID                                               text sentiment  \\\n",
       "1  549e992a42      Sooo SAD I will miss you here in San Diego!!!  negative   \n",
       "2  088c60f138                          my boss is bullying me...  negative   \n",
       "3  9642c003ef                     what interview! leave me alone  negative   \n",
       "4  358bd9e861   Sons of ****, why couldn`t they put them on t...  negative   \n",
       "5  28b57f3990  http://www.dothebouncy.com/smf - some shameles...   neutral   \n",
       "\n",
       "   sentiment_num  \n",
       "1              0  \n",
       "2              0  \n",
       "3              0  \n",
       "4              0  \n",
       "5              1  "
      ]
     },
     "execution_count": 12,
     "metadata": {},
     "output_type": "execute_result"
    }
   ],
   "source": [
    "train.head()"
   ]
  },
  {
   "cell_type": "code",
   "execution_count": 13,
   "id": "9e05deab",
   "metadata": {},
   "outputs": [
    {
     "data": {
      "text/plain": [
       "0"
      ]
     },
     "execution_count": 13,
     "metadata": {},
     "output_type": "execute_result"
    }
   ],
   "source": [
    "# Number of identical records\n",
    "\n",
    "train.duplicated().sum()"
   ]
  },
  {
   "cell_type": "code",
   "execution_count": 14,
   "id": "adca4f2c",
   "metadata": {
    "code_folding": [
     0
    ]
   },
   "outputs": [],
   "source": [
    "# Contractions. Source http://stackoverflow.com/questions/19790188/expanding-english-language-contractions-in-python\n",
    "\n",
    "contractions = { \n",
    "\"ain't\": \"am not\",\n",
    "\"aren't\": \"are not\",\n",
    "\"can't\": \"cannot\",\n",
    "\"can't've\": \"cannot have\",\n",
    "\"'cause\": \"because\",\n",
    "\"could've\": \"could have\",\n",
    "\"couldn't\": \"could not\",\n",
    "\"couldn't've\": \"could not have\",\n",
    "\"didn't\": \"did not\",\n",
    "\"doesn't\": \"does not\",\n",
    "\"don't\": \"do not\",\n",
    "\"hadn't\": \"had not\",\n",
    "\"hadn't've\": \"had not have\",\n",
    "\"hasn't\": \"has not\",\n",
    "\"haven't\": \"have not\",\n",
    "\"he'd\": \"he would\",\n",
    "\"he'd've\": \"he would have\",\n",
    "\"he'll\": \"he will\",\n",
    "\"he's\": \"he is\",\n",
    "\"how'd\": \"how did\",\n",
    "\"how'll\": \"how will\",\n",
    "\"how's\": \"how is\",\n",
    "\"i'd\": \"i would\",\n",
    "\"i'll\": \"i will\",\n",
    "\"i'm\": \"i am\",\n",
    "\"i've\": \"i have\",\n",
    "\"isn't\": \"is not\",\n",
    "\"it'd\": \"it would\",\n",
    "\"it'll\": \"it will\",\n",
    "\"it's\": \"it is\",\n",
    "\"let's\": \"let us\",\n",
    "\"ma'am\": \"madam\",\n",
    "\"mayn't\": \"may not\",\n",
    "\"might've\": \"might have\",\n",
    "\"mightn't\": \"might not\",\n",
    "\"must've\": \"must have\",\n",
    "\"mustn't\": \"must not\",\n",
    "\"needn't\": \"need not\",\n",
    "\"oughtn't\": \"ought not\",\n",
    "\"shan't\": \"shall not\",\n",
    "\"sha'n't\": \"shall not\",\n",
    "\"she'd\": \"she would\",\n",
    "\"she'll\": \"she will\",\n",
    "\"she's\": \"she is\",\n",
    "\"should've\": \"should have\",\n",
    "\"shouldn't\": \"should not\",\n",
    "\"that'd\": \"that would\",\n",
    "\"that's\": \"that is\",\n",
    "\"there'd\": \"there had\",\n",
    "\"there's\": \"there is\",\n",
    "\"they'd\": \"they would\",\n",
    "\"they'll\": \"they will\",\n",
    "\"they're\": \"they are\",\n",
    "\"they've\": \"they have\",\n",
    "\"wasn't\": \"was not\",\n",
    "\"we'd\": \"we would\",\n",
    "\"we'll\": \"we will\",\n",
    "\"we're\": \"we are\",\n",
    "\"we've\": \"we have\",\n",
    "\"weren't\": \"were not\",\n",
    "\"what'll\": \"what will\",\n",
    "\"what're\": \"what are\",\n",
    "\"what's\": \"what is\",\n",
    "\"what've\": \"what have\",\n",
    "\"where'd\": \"where did\",\n",
    "\"where's\": \"where is\",\n",
    "\"who'll\": \"who will\",\n",
    "\"who's\": \"who is\",\n",
    "\"won't\": \"will not\",\n",
    "\"wouldn't\": \"would not\",\n",
    "\"you'd\": \"you would\",\n",
    "\"you'll\": \"you will\",\n",
    "\"you're\": \"you are\"\n",
    "}"
   ]
  },
  {
   "cell_type": "code",
   "execution_count": 15,
   "id": "e54e6351",
   "metadata": {},
   "outputs": [
    {
     "name": "stdout",
     "output_type": "stream",
     "text": [
      "{'mightn', 'theirs', 'whom', 'weren', 'will', \"wasn't\", 'ours', \"aren't\", 'once', 'won', 'this', 'further', 'had', 'again', \"i'd\", 'who', 'ourselves', 'd', 'wasn', 'you', 'such', \"shouldn't\", 've', 'being', 'did', \"weren't\", 'which', 'only', 'over', \"we'd\", 'while', \"you're\", 'above', 'more', 'your', 'where', \"should've\", 'so', 'own', 'them', 'have', \"hasn't\", \"we've\", 'by', 'didn', 'they', 'to', 'doing', \"wouldn't\", 'him', \"they've\", 'much', 'very', \"it's\", 'same', 'been', \"you've\", 'himself', 'on', 'do', \"doesn't\", 'from', 'were', 'm', 'about', 'before', \"she'd\", 'she', 'yours', 'doesn', 'don', \"needn't\", 'itself', \"shan't\", 'and', 'under', 'a', \"he's\", 'me', 'how', \"you'll\", 'both', 'has', 'at', \"she's\", 'am', 'can', 'what', \"he'll\", 'hadn', 'does', \"that'll\", 'haven', 'other', 'why', 'their', 'his', 'but', 'nor', \"won't\", 'yourselves', \"didn't\", \"mightn't\", 'many', 'into', 'mustn', 'in', 'some', 'through', 'ma', 'just', 'our', 'needn', 'here', 'i', 'between', \"couldn't\", 'he', 'until', 'aren', 'few', 'off', \"she'll\", 'there', 'll', 'its', 're', \"hadn't\", 'her', 'during', 'ain', 'my', \"they're\", \"i'm\", \"it'd\", 'out', 'up', 'should', 's', 'each', \"they'd\", 'no', 'wouldn', 'now', 'than', 'because', 'it', 'isn', 'shan', 'are', 'if', 'not', 'as', 'y', 'is', 'shouldn', 'that', 'the', 'or', \"isn't\", 'all', 'couldn', 'too', \"it'll\", 'with', 'also', \"they'll\", 'was', 'would', 't', 'we', 'myself', 'after', \"we're\", 'most', \"haven't\", 'o', \"i'll\", \"he'd\", 'any', \"i've\", 'themselves', 'against', 'of', 'yourself', 'an', 'for', \"you'd\", 'these', \"we'll\", \"mustn't\", 'then', 'those', \"don't\", 'down', 'hasn', 'herself', 'hers', 'having', 'be', 'below', 'when'}\n"
     ]
    }
   ],
   "source": [
    "# get stop-words from the nltk library\n",
    "# using set to make words search faster\n",
    "\n",
    "stop_words = set(stopwords.words('english')).union({'also', 'would', 'much', 'many'})\n",
    "print(stop_words)"
   ]
  },
  {
   "cell_type": "code",
   "execution_count": 16,
   "id": "de2235f1",
   "metadata": {
    "code_folding": [
     0
    ]
   },
   "outputs": [],
   "source": [
    "negations = {\n",
    "    'aren',\n",
    "    \"aren't\",\n",
    "    'couldn',\n",
    "    \"couldn't\",\n",
    "    'didn',\n",
    "    \"didn't\",\n",
    "    'doesn',\n",
    "    \"doesn't\",\n",
    "    'don',\n",
    "    \"don't\",\n",
    "    'hadn',\n",
    "    \"hadn't\",\n",
    "    'hasn',\n",
    "    \"hasn't\",\n",
    "    'haven',\n",
    "    \"haven't\",\n",
    "    'isn',\n",
    "    \"isn't\",\n",
    "    'mightn',\n",
    "    \"mightn't\",\n",
    "    'mustn',\n",
    "    \"mustn't\",\n",
    "    'needn',\n",
    "    \"needn't\",\n",
    "    'no',\n",
    "    'nor',\n",
    "    'not',\n",
    "    'shan',\n",
    "    \"shan't\",\n",
    "    'shouldn',\n",
    "    \"shouldn't\",\n",
    "    'wasn',\n",
    "    \"wasn't\",\n",
    "    'weren',\n",
    "    \"weren't\",\n",
    "    'won',\n",
    "    \"won't\",\n",
    "    'wouldn',\n",
    "    \"wouldn't\"\n",
    "}"
   ]
  },
  {
   "cell_type": "code",
   "execution_count": 17,
   "id": "89ac379b",
   "metadata": {},
   "outputs": [],
   "source": [
    "# removing negations from the stop-words list\n",
    "\n",
    "stop_words = stop_words.difference(negations)"
   ]
  },
  {
   "cell_type": "code",
   "execution_count": 18,
   "id": "55acb8b7",
   "metadata": {},
   "outputs": [],
   "source": [
    "stemmer = PorterStemmer()"
   ]
  },
  {
   "cell_type": "code",
   "execution_count": 19,
   "id": "977d8548",
   "metadata": {},
   "outputs": [
    {
     "name": "stdout",
     "output_type": "stream",
     "text": [
      "Collecting en-core-web-sm==3.8.0\n",
      "  Downloading https://github.com/explosion/spacy-models/releases/download/en_core_web_sm-3.8.0/en_core_web_sm-3.8.0-py3-none-any.whl (12.8 MB)\n",
      "\u001b[2K     \u001b[90m━━━━━━━━━━━━━━━━━━━━━━━━━━━━━━━━━━━━━━━━\u001b[0m \u001b[32m12.8/12.8 MB\u001b[0m \u001b[31m196.0 MB/s\u001b[0m  \u001b[33m0:00:00\u001b[0m\n",
      "\u001b[?25h\u001b[38;5;2m✔ Download and installation successful\u001b[0m\n",
      "You can now load the package via spacy.load('en_core_web_sm')\n"
     ]
    }
   ],
   "source": [
    "! python3 -m spacy download en_core_web_sm"
   ]
  },
  {
   "cell_type": "code",
   "execution_count": 20,
   "id": "78aa1d4d",
   "metadata": {},
   "outputs": [],
   "source": [
    "nlp = spacy.load(\"en_core_web_sm\", disable = ['parser','ner'])"
   ]
  },
  {
   "cell_type": "code",
   "execution_count": 21,
   "id": "bf04ae52",
   "metadata": {
    "code_folding": []
   },
   "outputs": [],
   "source": [
    "# function to clean text\n",
    "def normalize_text(raw_review):\n",
    "    \n",
    "    # Remove html tags\n",
    "    text = re.sub(r\"<[^>]*>\", \" \", raw_review) # match <> and everything in between. [^>] - match everything except >\n",
    "    \n",
    "    # Remove emails\n",
    "    text = re.sub(r\"\\S*@\\S*[\\s]+\", \" \", text) # match non-whitespace characters, @ and a whitespaces in the end\n",
    "    \n",
    "    # remove links\n",
    "    text = re.sub(r\"https?:\\/\\/.*?[\\s]+\", \" \", text) # match http, s - zero or once, //, \n",
    "                                                    # any char 0-unlimited, whitespaces in the end\n",
    "        \n",
    "     # Convert to lower case, split into individual words\n",
    "    text = text.lower().split()\n",
    "    \n",
    "    # Replace contractions with their full versions\n",
    "    text = [contractions.get(word) if word in contractions else word \n",
    "            for word in text]\n",
    "   \n",
    "    # Re-splitting for the correct stop-words extraction\n",
    "    text = \" \".join(text).split()    \n",
    "    \n",
    "    # Remove stop words\n",
    "    text = [word for word in text if not word in stop_words]\n",
    "\n",
    "    text = \" \".join(text)\n",
    "    \n",
    "    # Remove non-letters        \n",
    "    text = re.sub(r\"[^a-zA-Z' ]\", \"\", text) # match everything except letters and '\n",
    "\n",
    "\n",
    "    # Stem words. Need to define porter stemmer above\n",
    "    # text = [stemmer.stem(word) for word in text.split()]\n",
    "\n",
    "    # Lemmatize words. Need to define lemmatizer above\n",
    "    doc = nlp(text)\n",
    "    text = \" \".join([token.lemma_ for token in doc if len(token.lemma_) > 1 ])\n",
    "    \n",
    "    # Remove excesive whitespaces\n",
    "    text = re.sub(r\"[\\s]+\", \" \", text)    \n",
    "    \n",
    "    # Join the words back into one string separated by space, and return the result.\n",
    "    return text"
   ]
  },
  {
   "cell_type": "code",
   "execution_count": 22,
   "id": "4694f198",
   "metadata": {},
   "outputs": [
    {
     "data": {
      "image/png": "[encoded data removed]",
      "text/plain": [
       "<Figure size 600x400 with 1 Axes>"
      ]
     },
     "metadata": {},
     "output_type": "display_data"
    }
   ],
   "source": [
    "# Рахуємо кількість кожного класу\n",
    "counts = train['sentiment_num'].value_counts()\n",
    "\n",
    "# Малюємо bar chart\n",
    "plt.figure(figsize=(6,4))\n",
    "counts.plot(kind='bar', color=['green','gray','red'])\n",
    "plt.title(\"Розподіл класів у sentiment (Bar chart)\")\n",
    "plt.xlabel(\"Sentiment\")\n",
    "plt.ylabel(\"Кількість прикладів\")\n",
    "plt.xticks(rotation=0)\n",
    "plt.show()"
   ]
  },
  {
   "cell_type": "code",
   "execution_count": 23,
   "id": "1d249ec0",
   "metadata": {},
   "outputs": [],
   "source": [
    "train[\"text\"] = train[\"text\"].fillna(\"\")\n",
    "\n",
    "#train['text'] = train['text'].progress_apply(normalize_text)"
   ]
  },
  {
   "cell_type": "code",
   "execution_count": 24,
   "id": "82e36084",
   "metadata": {},
   "outputs": [
    {
     "data": {
      "text/html": [
       "<div>\n",
       "<style scoped>\n",
       "    .dataframe tbody tr th:only-of-type {\n",
       "        vertical-align: middle;\n",
       "    }\n",
       "\n",
       "    .dataframe tbody tr th {\n",
       "        vertical-align: top;\n",
       "    }\n",
       "\n",
       "    .dataframe thead th {\n",
       "        text-align: right;\n",
       "    }\n",
       "</style>\n",
       "<table border=\"1\" class=\"dataframe\">\n",
       "  <thead>\n",
       "    <tr style=\"text-align: right;\">\n",
       "      <th></th>\n",
       "      <th>ID</th>\n",
       "      <th>text</th>\n",
       "      <th>sentiment</th>\n",
       "      <th>sentiment_num</th>\n",
       "    </tr>\n",
       "  </thead>\n",
       "  <tbody>\n",
       "    <tr>\n",
       "      <th>1</th>\n",
       "      <td>549e992a42</td>\n",
       "      <td>Sooo SAD I will miss you here in San Diego!!!</td>\n",
       "      <td>negative</td>\n",
       "      <td>0</td>\n",
       "    </tr>\n",
       "    <tr>\n",
       "      <th>2</th>\n",
       "      <td>088c60f138</td>\n",
       "      <td>my boss is bullying me...</td>\n",
       "      <td>negative</td>\n",
       "      <td>0</td>\n",
       "    </tr>\n",
       "    <tr>\n",
       "      <th>3</th>\n",
       "      <td>9642c003ef</td>\n",
       "      <td>what interview! leave me alone</td>\n",
       "      <td>negative</td>\n",
       "      <td>0</td>\n",
       "    </tr>\n",
       "    <tr>\n",
       "      <th>4</th>\n",
       "      <td>358bd9e861</td>\n",
       "      <td>Sons of ****, why couldn`t they put them on t...</td>\n",
       "      <td>negative</td>\n",
       "      <td>0</td>\n",
       "    </tr>\n",
       "    <tr>\n",
       "      <th>5</th>\n",
       "      <td>28b57f3990</td>\n",
       "      <td>http://www.dothebouncy.com/smf - some shameles...</td>\n",
       "      <td>neutral</td>\n",
       "      <td>1</td>\n",
       "    </tr>\n",
       "  </tbody>\n",
       "</table>\n",
       "</div>"
      ],
      "text/plain": [
       "           ID                                               text sentiment  \\\n",
       "1  549e992a42      Sooo SAD I will miss you here in San Diego!!!  negative   \n",
       "2  088c60f138                          my boss is bullying me...  negative   \n",
       "3  9642c003ef                     what interview! leave me alone  negative   \n",
       "4  358bd9e861   Sons of ****, why couldn`t they put them on t...  negative   \n",
       "5  28b57f3990  http://www.dothebouncy.com/smf - some shameles...   neutral   \n",
       "\n",
       "   sentiment_num  \n",
       "1              0  \n",
       "2              0  \n",
       "3              0  \n",
       "4              0  \n",
       "5              1  "
      ]
     },
     "execution_count": 24,
     "metadata": {},
     "output_type": "execute_result"
    }
   ],
   "source": [
    "train.head()"
   ]
  },
  {
   "cell_type": "code",
   "execution_count": 25,
   "id": "8b11f318",
   "metadata": {},
   "outputs": [],
   "source": [
    "train_idxs = train.sample(frac=0.8, random_state=42).index\n",
    "val_idxs = [idx for idx in train.index if idx not in train_idxs]"
   ]
  },
  {
   "cell_type": "code",
   "execution_count": 26,
   "id": "3ad24bf7",
   "metadata": {},
   "outputs": [],
   "source": [
    "X_train = train.loc[train_idxs, 'text']\n",
    "X_test = train.loc[val_idxs, 'text']\n",
    "\n",
    "y_train = train.loc[train_idxs, 'sentiment_num']\n",
    "y_test = train.loc[val_idxs, 'sentiment_num']"
   ]
  },
  {
   "cell_type": "code",
   "execution_count": 27,
   "id": "6d2eb368",
   "metadata": {},
   "outputs": [],
   "source": [
    "# Creating and training a CountVectorizer object \n",
    "\n",
    "#vect = CountVectorizer().fit(X_train)\n",
    "\n",
    "#len(vect.vocabulary_)"
   ]
  },
  {
   "cell_type": "code",
   "execution_count": 28,
   "id": "c87f0d6d",
   "metadata": {},
   "outputs": [],
   "source": [
    "# features examples\n",
    "\n",
    "#vect.get_feature_names_out()[:5]"
   ]
  },
  {
   "cell_type": "code",
   "execution_count": 29,
   "id": "d1dc844a",
   "metadata": {},
   "outputs": [],
   "source": [
    "# transform the documents in the training data to a document-term matrix\n",
    "\n",
    "#X_train_vectorized = vect.transform(X_train)\n",
    "#X_train_vectorized.shape"
   ]
  },
  {
   "cell_type": "code",
   "execution_count": 30,
   "id": "d002a3e6",
   "metadata": {},
   "outputs": [],
   "source": [
    "# Resulted features representation is a sparse matrix\n",
    "\n",
    "#X_train_vectorized"
   ]
  },
  {
   "cell_type": "code",
   "execution_count": 31,
   "id": "c8358789",
   "metadata": {},
   "outputs": [],
   "source": [
    "# model = LogisticRegression(\n",
    "#     solver=\"lbfgs\",\n",
    "#     max_iter=1000,        # было 100\n",
    "#     random_state=42)\n",
    "# model.fit(X_train_vectorized, y_train)"
   ]
  },
  {
   "cell_type": "code",
   "execution_count": 32,
   "id": "653034d3",
   "metadata": {},
   "outputs": [],
   "source": [
    "# predictions = model.predict(vect.transform(X_test))\n",
    "\n",
    "# print(\"Accuracy:\", accuracy_score(y_test, predictions))"
   ]
  },
  {
   "cell_type": "code",
   "execution_count": 33,
   "id": "6e169418",
   "metadata": {},
   "outputs": [],
   "source": [
    "# Xte = vect.transform(test[\"text\"].fillna(\"\"))   # обязательно fillna(\"\")\n",
    "# y_pred = model.predict(Xte)\n",
    "\n",
    "# # 3. Упаковываем в DataFrame для сабмита\n",
    "# submission = pd.DataFrame({\n",
    "#     \"ID\": test[\"ID\"],\n",
    "#     \"sentiment\": y_pred\n",
    "# })\n",
    "# submission['sentiment'] = submission['sentiment'].map({\n",
    "#     0 : 'negative',\n",
    "#     2 : 'positive',\n",
    "#     1 : 'neutral'\n",
    "# })\n",
    "\n",
    "\n",
    "# # 4. Сохраняем в CSV\n",
    "# submission.to_csv(\"submission.csv\", index=False)\n",
    "# print(\"Файл submission.csv успешно сохранён!\")"
   ]
  },
  {
   "cell_type": "code",
   "execution_count": 34,
   "id": "46e404c4",
   "metadata": {},
   "outputs": [],
   "source": [
    "#submission.head()"
   ]
  },
  {
   "cell_type": "code",
   "execution_count": 35,
   "id": "5c9f1110",
   "metadata": {},
   "outputs": [
    {
     "name": "stdout",
     "output_type": "stream",
     "text": [
      "True\n"
     ]
    }
   ],
   "source": [
    "#import torch\n",
    "print(torch.cuda.is_available()) \n",
    "device = \"cuda\" if torch.cuda.is_available() else None"
   ]
  },
  {
   "cell_type": "code",
   "execution_count": 36,
   "id": "2c198f37",
   "metadata": {},
   "outputs": [
    {
     "name": "stdout",
     "output_type": "stream",
     "text": [
      "<class 'pandas.core.frame.DataFrame'>\n",
      "RangeIndex: 3534 entries, 0 to 3533\n",
      "Data columns (total 2 columns):\n",
      " #   Column  Non-Null Count  Dtype \n",
      "---  ------  --------------  ----- \n",
      " 0   ID      3534 non-null   object\n",
      " 1   text    3534 non-null   object\n",
      "dtypes: object(2)\n",
      "memory usage: 55.3+ KB\n"
     ]
    }
   ],
   "source": [
    "test.info()"
   ]
  },
  {
   "cell_type": "code",
   "execution_count": 37,
   "id": "ca2e4946",
   "metadata": {},
   "outputs": [
    {
     "name": "stdout",
     "output_type": "stream",
     "text": [
      "ID      object\n",
      "text    object\n",
      "dtype: object\n"
     ]
    }
   ],
   "source": [
    "test[\"ID\"] = test[\"ID\"].astype(str)\n",
    "test[\"text\"] = test[\"text\"].fillna(\"\").astype(str)\n",
    "\n",
    "\n",
    "print(test.dtypes)\n"
   ]
  },
  {
   "cell_type": "code",
   "execution_count": 38,
   "id": "b10f32b4",
   "metadata": {},
   "outputs": [
    {
     "name": "stdout",
     "output_type": "stream",
     "text": [
      "<class 'pandas.core.frame.DataFrame'>\n",
      "RangeIndex: 3534 entries, 0 to 3533\n",
      "Data columns (total 2 columns):\n",
      " #   Column  Non-Null Count  Dtype \n",
      "---  ------  --------------  ----- \n",
      " 0   ID      3534 non-null   object\n",
      " 1   text    3534 non-null   object\n",
      "dtypes: object(2)\n",
      "memory usage: 55.3+ KB\n"
     ]
    }
   ],
   "source": [
    "test.info()"
   ]
  },
  {
   "cell_type": "code",
   "execution_count": 39,
   "id": "687eced2",
   "metadata": {},
   "outputs": [
    {
     "data": {
      "text/plain": [
       "ID      object\n",
       "text    object\n",
       "dtype: object"
      ]
     },
     "execution_count": 39,
     "metadata": {},
     "output_type": "execute_result"
    }
   ],
   "source": [
    "test.dtypes"
   ]
  },
  {
   "cell_type": "code",
   "execution_count": 40,
   "id": "fa3104ee",
   "metadata": {},
   "outputs": [
    {
     "name": "stdout",
     "output_type": "stream",
     "text": [
      "DatasetDict({\n",
      "    train: Dataset({\n",
      "        features: ['text', 'labels'],\n",
      "        num_rows: 19985\n",
      "    })\n",
      "    validation: Dataset({\n",
      "        features: ['text', 'labels'],\n",
      "        num_rows: 4996\n",
      "    })\n",
      "    test: Dataset({\n",
      "        features: ['ID', 'text'],\n",
      "        num_rows: 3534\n",
      "    })\n",
      "})\n"
     ]
    }
   ],
   "source": [
    "\n",
    "ds = DatasetDict({\n",
    "    \"train\": Dataset.from_dict({\n",
    "        \"text\": X_train, \n",
    "        \"labels\": y_train\n",
    "    }),\n",
    "    \"validation\": Dataset.from_dict({\n",
    "        \"text\": X_test, \n",
    "        \"labels\": y_test\n",
    "    }),\n",
    "    \"test\": Dataset.from_pandas(test)  # Pass the prepared DataFrame\n",
    "})\n",
    "print(ds)"
   ]
  },
  {
   "cell_type": "code",
   "execution_count": 41,
   "id": "bfaaf31d",
   "metadata": {},
   "outputs": [
    {
     "data": {
      "text/plain": [
       "DatasetDict({\n",
       "    train: Dataset({\n",
       "        features: ['text', 'labels'],\n",
       "        num_rows: 19985\n",
       "    })\n",
       "    validation: Dataset({\n",
       "        features: ['text', 'labels'],\n",
       "        num_rows: 4996\n",
       "    })\n",
       "    test: Dataset({\n",
       "        features: ['ID', 'text'],\n",
       "        num_rows: 3534\n",
       "    })\n",
       "})"
      ]
     },
     "execution_count": 41,
     "metadata": {},
     "output_type": "execute_result"
    }
   ],
   "source": [
    "ds"
   ]
  },
  {
   "cell_type": "code",
   "execution_count": 42,
   "id": "ff008f8f",
   "metadata": {},
   "outputs": [
    {
     "data": {
      "text/plain": [
       "ID      object\n",
       "text    object\n",
       "dtype: object"
      ]
     },
     "execution_count": 42,
     "metadata": {},
     "output_type": "execute_result"
    }
   ],
   "source": [
    "test.dtypes"
   ]
  },
  {
   "cell_type": "code",
   "execution_count": 43,
   "id": "f9cf6416",
   "metadata": {},
   "outputs": [
    {
     "data": {
      "application/vnd.jupyter.widget-view+json": {
       "model_id": "80e451538df84ad680c513340439184c",
       "version_major": 2,
       "version_minor": 0
      },
      "text/plain": [
       "Tokenizing train:   0%|          | 0/19985 [00:00<?, ? examples/s]"
      ]
     },
     "metadata": {},
     "output_type": "display_data"
    },
    {
     "data": {
      "application/vnd.jupyter.widget-view+json": {
       "model_id": "96d468a7277c4e499319e23b86887041",
       "version_major": 2,
       "version_minor": 0
      },
      "text/plain": [
       "Tokenizing validation:   0%|          | 0/4996 [00:00<?, ? examples/s]"
      ]
     },
     "metadata": {},
     "output_type": "display_data"
    },
    {
     "data": {
      "application/vnd.jupyter.widget-view+json": {
       "model_id": "cc354829e9d248059eb5e8c17b2e39a3",
       "version_major": 2,
       "version_minor": 0
      },
      "text/plain": [
       "Tokenizing test:   0%|          | 0/3534 [00:00<?, ? examples/s]"
      ]
     },
     "metadata": {},
     "output_type": "display_data"
    }
   ],
   "source": [
    "\n",
    "model_name = \"roberta-base\" #\"distilbert-base-uncased\" \"bert-base-uncased\" # \n",
    "tokenizer = AutoTokenizer.from_pretrained(model_name)\n",
    "\n",
    "def tok_fn(batch):\n",
    "    return tokenizer(batch[\"text\"], truncation=True, max_length=256)\n",
    "\n",
    "for split in [\"train\", \"validation\"]:\n",
    "    ds[split] = ds[split].map(\n",
    "        tok_fn, batched=True, remove_columns=[\"text\"], desc=f\"Tokenizing {split}\"\n",
    "    )\n",
    "ds[\"test\"] = ds[\"test\"].map(\n",
    "    tok_fn, batched=True, remove_columns=[\"text\"], desc=\"Tokenizing test\"\n",
    ")\n",
    "collator = DataCollatorWithPadding(tokenizer=tokenizer)"
   ]
  },
  {
   "cell_type": "code",
   "execution_count": 44,
   "id": "8f3f1cf6",
   "metadata": {},
   "outputs": [
    {
     "name": "stderr",
     "output_type": "stream",
     "text": [
      "Some weights of RobertaForSequenceClassification were not initialized from the model checkpoint at roberta-base and are newly initialized: ['classifier.dense.bias', 'classifier.dense.weight', 'classifier.out_proj.bias', 'classifier.out_proj.weight']\n",
      "You should probably TRAIN this model on a down-stream task to be able to use it for predictions and inference.\n"
     ]
    }
   ],
   "source": [
    "#  Модель -----\n",
    "model = AutoModelForSequenceClassification.from_pretrained(\n",
    "    model_name,\n",
    "    num_labels=3 \n",
    ")\n",
    "\n",
    "# model.config.dropout = 0.1\n",
    "# model.config.attention_dropout = 0.1\n",
    "# if hasattr(model.config, \"seq_classif_dropout\"):\n",
    "#     model.config.seq_classif_dropout = 0.1"
   ]
  },
  {
   "cell_type": "code",
   "execution_count": 45,
   "id": "0afbd068",
   "metadata": {},
   "outputs": [],
   "source": [
    "# ----- 5)  (Accuracy) -----\n",
    "metric = evaluate.load(\"accuracy\")\n",
    "def compute_metrics(eval_pred):\n",
    "    logits, labels = eval_pred\n",
    "    preds = logits.argmax(axis=-1)\n",
    "    return {\"accuracy\": metric.compute(references=labels, predictions=preds)[\"accuracy\"]}"
   ]
  },
  {
   "cell_type": "code",
   "execution_count": 46,
   "id": "bde1bff1",
   "metadata": {},
   "outputs": [
    {
     "name": "stdout",
     "output_type": "stream",
     "text": [
      "4.56.1\n"
     ]
    }
   ],
   "source": [
    "import transformers\n",
    "print(transformers.__version__)"
   ]
  },
  {
   "cell_type": "code",
   "execution_count": 47,
   "id": "23039390",
   "metadata": {},
   "outputs": [],
   "source": [
    "os.environ[\"TOKENIZERS_PARALLELISM\"] = \"false\""
   ]
  },
  {
   "cell_type": "code",
   "execution_count": 48,
   "id": "2f3764c8",
   "metadata": {},
   "outputs": [],
   "source": [
    "#!pip install 'accelerate>=0.26.0'"
   ]
  },
  {
   "cell_type": "code",
   "execution_count": 49,
   "id": "80099c17",
   "metadata": {},
   "outputs": [],
   "source": [
    "from transformers import TrainingArguments, Trainer\n",
    "args = TrainingArguments(\n",
    "    output_dir=\"bert_sa_ckpt\",\n",
    "    eval_strategy=\"epoch\",\n",
    "    save_strategy=\"epoch\",\n",
    "    learning_rate=1e-5,\n",
    "    per_device_train_batch_size=16,\n",
    "    per_device_eval_batch_size=16,\n",
    "    num_train_epochs=5,\n",
    "    warmup_ratio=0.1,\n",
    "    weight_decay=0.01,\n",
    "    #max_grad_norm=1.0, # +\n",
    "    load_best_model_at_end=True,\n",
    "    metric_for_best_model=\"accuracy\",\n",
    "    fp16=torch.cuda.is_available(),\n",
    "    greater_is_better=True,\n",
    "    report_to=\"none\",\n",
    "    seed=42,\n",
    ")"
   ]
  },
  {
   "cell_type": "code",
   "execution_count": 50,
   "id": "57e0da84",
   "metadata": {},
   "outputs": [],
   "source": [
    "# from transformers import TrainerCallback\n",
    "# # For Losses visualization\n",
    "\n",
    "# for cb in list(trainer.callback_handler.callbacks):\n",
    "#     if cb.__class__.__name__ in {\"HistoryRecorder\", \"TrainEvalCallback\"}:\n",
    "#         trainer.remove_callback(cb.__class__)\n",
    "        \n",
    "# class HistoryRecorder(TrainerCallback):\n",
    "#     def __init__(self):\n",
    "#         self.records = []\n",
    "\n",
    "#     def on_epoch_end(self, args, state, control, **kwargs):\n",
    "#         trainer = kwargs[\"trainer\"]\n",
    "\n",
    "#         val_metrics = trainer.evaluate(trainer.eval_dataset, metric_key_prefix=\"val\")\n",
    "#         train_metrics = trainer.evaluate(trainer.train_dataset, metric_key_prefix=\"train\")\n",
    "\n",
    "#         row = {\n",
    "#             \"epoch\": state.epoch,\n",
    "#             \"train_loss\": train_metrics.get(\"train_loss\"),\n",
    "#             \"train_accuracy\": train_metrics.get(\"train_accuracy\"),\n",
    "#             \"val_loss\": val_metrics.get(\"val_loss\"),\n",
    "#             \"val_accuracy\": val_metrics.get(\"val_accuracy\"),\n",
    "#         }\n",
    "#         self.records.append(row)\n",
    "\n",
    "#         pd.DataFrame(self.records).to_csv(\"history_epoch.csv\", index=False)\n",
    "\n",
    "# rec = HistoryRecorder()"
   ]
  },
  {
   "cell_type": "code",
   "execution_count": 51,
   "id": "8bd6859f",
   "metadata": {},
   "outputs": [],
   "source": [
    "# trainer = Trainer(\n",
    "#     model=model,\n",
    "#     args=args,\n",
    "#     train_dataset=ds[\"train\"],\n",
    "#     eval_dataset=ds[\"validation\"],\n",
    "#     tokenizer=tokenizer,\n",
    "#     data_collator=collator,\n",
    "#     compute_metrics=compute_metrics,\n",
    "#     callbacks=[rec],\n",
    "# )"
   ]
  },
  {
   "cell_type": "code",
   "execution_count": 52,
   "id": "ff3600b6",
   "metadata": {},
   "outputs": [
    {
     "name": "stderr",
     "output_type": "stream",
     "text": [
      "/tmp/ipykernel_271924/2317518402.py:16: FutureWarning: `tokenizer` is deprecated and will be removed in version 5.0.0 for `WeightedLossTrainer.__init__`. Use `processing_class` instead.\n",
      "  super().__init__(*args, **kwargs)\n"
     ]
    }
   ],
   "source": [
    "from collections import Counter\n",
    "import torch.nn.functional as F\n",
    "from transformers import Trainer\n",
    "\n",
    "# 1) compute weights from training labels\n",
    "labels = np.array(ds[\"train\"][\"labels\"])\n",
    "cnt = Counter(labels.tolist())\n",
    "num_classes = len(set(labels))\n",
    "total = len(labels)\n",
    "class_weights = torch.tensor([total / (num_classes * cnt.get(i, 1)) for i in range(num_classes)],\n",
    "                             dtype=torch.float)\n",
    "\n",
    "# 2) custom Trainer that applies weighted CE\n",
    "class WeightedLossTrainer(Trainer):\n",
    "    def __init__(self, *args, class_weights=None, **kwargs):\n",
    "        super().__init__(*args, **kwargs)\n",
    "        self.class_weights = class_weights\n",
    "\n",
    "    def compute_loss(self, model, inputs, return_outputs=False, **kwargs):\n",
    "        labels = inputs.pop(\"labels\")\n",
    "        outputs = model(**inputs)\n",
    "        logits = outputs.logits\n",
    "        # CrossEntropyLoss \n",
    "        loss_fct = torch.nn.CrossEntropyLoss(\n",
    "            weight=self.class_weights.to(logits.device) if self.class_weights is not None else None\n",
    "        )\n",
    "        loss = loss_fct(logits.view(-1, logits.size(-1)), labels.view(-1))\n",
    "        return (loss, outputs) if return_outputs else loss\n",
    "\n",
    "trainer = WeightedLossTrainer(\n",
    "    model=model,\n",
    "    args=args,  #  TrainingArguments\n",
    "    train_dataset=ds[\"train\"],\n",
    "    eval_dataset=ds[\"validation\"],\n",
    "    tokenizer=tokenizer,\n",
    "    data_collator=collator,\n",
    "    compute_metrics=compute_metrics,\n",
    "    class_weights=class_weights,\n",
    ")"
   ]
  },
  {
   "cell_type": "code",
   "execution_count": 53,
   "id": "97a1f449",
   "metadata": {},
   "outputs": [
    {
     "data": {
      "text/html": [
       "\n",
       "    <div>\n",
       "      \n",
       "      <progress value='6250' max='6250' style='width:300px; height:20px; vertical-align: middle;'></progress>\n",
       "      [6250/6250 04:20, Epoch 5/5]\n",
       "    </div>\n",
       "    <table border=\"1\" class=\"dataframe\">\n",
       "  <thead>\n",
       " <tr style=\"text-align: left;\">\n",
       "      <th>Epoch</th>\n",
       "      <th>Training Loss</th>\n",
       "      <th>Validation Loss</th>\n",
       "      <th>Accuracy</th>\n",
       "    </tr>\n",
       "  </thead>\n",
       "  <tbody>\n",
       "    <tr>\n",
       "      <td>1</td>\n",
       "      <td>0.583500</td>\n",
       "      <td>0.511630</td>\n",
       "      <td>0.800040</td>\n",
       "    </tr>\n",
       "    <tr>\n",
       "      <td>2</td>\n",
       "      <td>0.468200</td>\n",
       "      <td>0.515675</td>\n",
       "      <td>0.799440</td>\n",
       "    </tr>\n",
       "    <tr>\n",
       "      <td>3</td>\n",
       "      <td>0.387900</td>\n",
       "      <td>0.513322</td>\n",
       "      <td>0.798239</td>\n",
       "    </tr>\n",
       "    <tr>\n",
       "      <td>4</td>\n",
       "      <td>0.339300</td>\n",
       "      <td>0.559720</td>\n",
       "      <td>0.805044</td>\n",
       "    </tr>\n",
       "    <tr>\n",
       "      <td>5</td>\n",
       "      <td>0.288800</td>\n",
       "      <td>0.593184</td>\n",
       "      <td>0.801441</td>\n",
       "    </tr>\n",
       "  </tbody>\n",
       "</table><p>"
      ],
      "text/plain": [
       "<IPython.core.display.HTML object>"
      ]
     },
     "metadata": {},
     "output_type": "display_data"
    },
    {
     "data": {
      "text/html": [],
      "text/plain": [
       "<IPython.core.display.HTML object>"
      ]
     },
     "metadata": {},
     "output_type": "display_data"
    },
    {
     "name": "stdout",
     "output_type": "stream",
     "text": [
      "{'eval_loss': 0.559719979763031, 'eval_accuracy': 0.8050440352281826, 'eval_runtime': 3.2431, 'eval_samples_per_second': 1540.479, 'eval_steps_per_second': 96.511, 'epoch': 5.0}\n",
      "Train: {'eval_loss': 0.23691973090171814, 'eval_accuracy': 0.9204403302476858, 'eval_runtime': 14.407, 'eval_samples_per_second': 1387.168, 'eval_steps_per_second': 86.763, 'epoch': 5.0}\n",
      "Valid: {'eval_loss': 0.559719979763031, 'eval_accuracy': 0.8050440352281826, 'eval_runtime': 3.602, 'eval_samples_per_second': 1387.014, 'eval_steps_per_second': 86.897, 'epoch': 5.0}\n"
     ]
    }
   ],
   "source": [
    "trainer.train()\n",
    "print(trainer.evaluate())  # итоговая метрика на валидации\n",
    "train_metrics = trainer.evaluate(ds[\"train\"])\n",
    "valid_metrics = trainer.evaluate(ds[\"validation\"])\n",
    "\n",
    "print(\"Train:\", train_metrics)\n",
    "print(\"Valid:\", valid_metrics)"
   ]
  },
  {
   "cell_type": "code",
   "execution_count": 54,
   "id": "9eaad070",
   "metadata": {},
   "outputs": [
    {
     "name": "stdout",
     "output_type": "stream",
     "text": [
      "           ID sentiment\n",
      "0  f87dea47db   neutral\n",
      "1  96d74cb729  positive\n",
      "2  eee518ae67  negative\n",
      "3  01082688c6  positive\n",
      "4  33987a8ee5  positive \n",
      "Saved to submission.csv\n"
     ]
    }
   ],
   "source": [
    "test_out = trainer.predict(ds[\"test\"])\n",
    "test_logits = test_out.predictions\n",
    "test_preds = test_logits.argmax(axis=-1)\n",
    "\n",
    "# 2) Если нужен чисто числовой сабмишн (0/1/2 и т.п.):\n",
    "sub = pd.DataFrame({\n",
    "    \"ID\": ds[\"test\"][\"ID\"],\n",
    "    \"sentiment\": test_preds.astype(int)\n",
    "})\n",
    "\n",
    "# --- Если хочешь текстовые метки, раскомментируй и задай mapping ---\n",
    "# id2name = {0: \"negative\", 1: \"neutral\", 2: \"positive\"}  # <- твой маппинг\n",
    "# sub = pd.DataFrame({\n",
    "#     \"ID\": ds[\"test\"][\"ID\"],\n",
    "#     \"sentiment\": [id2name[int(i)] for i in test_preds]\n",
    "# })\n",
    "sub['sentiment'] = sub['sentiment'].map({\n",
    "    0 : 'negative',\n",
    "    2 : 'positive',\n",
    "    1 : 'neutral'\n",
    "})\n",
    "# 3) Сохранить\n",
    "sub.to_csv(\"submission.csv\", index=False)\n",
    "print(sub.head(), \"\\nSaved to submission.csv\")"
   ]
  },
  {
   "cell_type": "code",
   "execution_count": 55,
   "id": "ac412813",
   "metadata": {},
   "outputs": [
    {
     "data": {
      "text/html": [],
      "text/plain": [
       "<IPython.core.display.HTML object>"
      ]
     },
     "metadata": {},
     "output_type": "display_data"
    },
    {
     "name": "stdout",
     "output_type": "stream",
     "text": [
      "              precision    recall  f1-score   support\n",
      "\n",
      "           0      0.815     0.829     0.822      1576\n",
      "           1      0.746     0.709     0.727      1685\n",
      "           2      0.849     0.876     0.862      1735\n",
      "\n",
      "    accuracy                          0.805      4996\n",
      "   macro avg      0.803     0.805     0.804      4996\n",
      "weighted avg      0.804     0.805     0.804      4996\n",
      "\n",
      "[[1307  229   40]\n",
      " [ 260 1195  230]\n",
      " [  37  178 1520]]\n"
     ]
    }
   ],
   "source": [
    "from sklearn.metrics import classification_report, confusion_matrix\n",
    "val_out = trainer.predict(ds[\"validation\"]).predictions\n",
    "val_preds = val_out.argmax(axis=-1)\n",
    "val_true  = ds[\"validation\"][\"labels\"]\n",
    "print(classification_report(val_true, val_preds, digits=3))\n",
    "print(confusion_matrix(val_true, val_preds))"
   ]
  },
  {
   "cell_type": "code",
   "execution_count": 56,
   "id": "613c46ac",
   "metadata": {},
   "outputs": [],
   "source": [
    "# df = pd.DataFrame(rec.records)\n",
    "\n",
    "# plt.figure(figsize=(12,5))\n",
    "# # Loss\n",
    "# plt.subplot(1,2,1)\n",
    "# plt.plot(df[\"epoch\"], df[\"train_loss\"], marker=\"o\", label=\"Train Loss\")\n",
    "# plt.plot(df[\"epoch\"], df[\"val_loss\"],   marker=\"o\", label=\"Val Loss\")\n",
    "# plt.xlabel(\"Epoch\"); plt.ylabel(\"Loss\"); plt.title(\"Loss per Epoch\"); plt.grid(True); plt.legend()\n",
    "\n",
    "# # Accuracy\n",
    "# plt.subplot(1,2,2)\n",
    "# if \"train_accuracy\" in df and df[\"train_accuracy\"].notnull().any():\n",
    "#     plt.plot(df[\"epoch\"], df[\"train_accuracy\"], marker=\"o\", label=\"Train Acc\")\n",
    "# plt.plot(df[\"epoch\"], df[\"val_accuracy\"],   marker=\"o\", label=\"Val Acc\")\n",
    "# plt.xlabel(\"Epoch\"); plt.ylabel(\"Accuracy\"); plt.title(\"Accuracy per Epoch\"); plt.grid(True); plt.legend()\n",
    "\n",
    "# plt.tight_layout()\n",
    "# plt.savefig(\"curves.png\", dpi=160)\n",
    "# plt.show()"
   ]
  },
  {
   "cell_type": "markdown",
   "id": "24acddaf",
   "metadata": {},
   "source": [
    "### Висновки\n",
    "\n",
    "У ході експериментів було спробувано кілька підходів до класифікації.\n",
    "\n",
    "1. **Логістична регресія.**\n",
    "   Цей базовий метод дав дуже низькі результати. Модель виявилася непридатною для нашого завдання, хоча як відправна точка він теж був корисним.\n",
    "\n",
    "2. **Модель на основі BERT.**\n",
    "   Основну роботу вдалося виконати саме на цій архітектурі. Під час навчання з’ясувалося, що попередня нормалізація тексту шкодила якості: модель втрачала контекст і точність падала. Після відключення нормалізації результати значно покращилися.\n",
    "\n",
    "3. **Фактори, що вплинули на точність.**\n",
    "   Найбільший вплив мав розмір batch — правильний підбір цього параметра дав відчутне підвищення якості класифікації.\n",
    "\n",
    "Загалом, навіть попри невдалі спроби з простішими моделями, завдання було виконано успішно, а застосування BERT дозволило отримати суттєво кращі результати.\n"
   ]
  }
 ],
 "metadata": {
  "kernelspec": {
   "display_name": "Python 3 (ipykernel)",
   "language": "python",
   "name": "python3"
  },
  "language_info": {
   "codemirror_mode": {
    "name": "ipython",
    "version": 3
   },
   "file_extension": ".py",
   "mimetype": "text/x-python",
   "name": "python",
   "nbconvert_exporter": "python",
   "pygments_lexer": "ipython3",
   "version": "3.12.10"
  },
  "toc": {
   "base_numbering": 1,
   "nav_menu": {},
   "number_sections": true,
   "sideBar": true,
   "skip_h1_title": false,
   "title_cell": "Table of Contents",
   "title_sidebar": "Contents",
   "toc_cell": false,
   "toc_position": {},
   "toc_section_display": true,
   "toc_window_display": false
  }
 },
 "nbformat": 4,
 "nbformat_minor": 5
}
