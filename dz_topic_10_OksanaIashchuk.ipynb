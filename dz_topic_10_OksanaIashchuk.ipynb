{
 "cells": [
  {
   "cell_type": "markdown",
   "id": "078811b1",
   "metadata": {},
   "source": [
    "<h1 style=\"text-align: center;\">10. Домашнє завдання до модуля «Вступ до NLP»\n",
    "</h1>\n",
    "<h2 style=\"text-align: center;\">.</h2>"
   ]
  },
  {
   "cell_type": "markdown",
   "id": "c7e23708",
   "metadata": {},
   "source": [
    "🎢 Домашнє завдання до модуля «Вступ до NLP»\n",
    "\n",
    "Вітаємо в домашньому завданні до модуля «Вступ до NLP»! 🙂\n",
    "У сучасному цифровому світі електронна пошта залишається одним з основних засобів комунікації. Однак разом з корисними повідомленнями, користувачі часто отримують небажану кореспонденцію — спам. Автоматична фільтрація спаму є важливим завданням для забезпечення ефективної роботи з електронною поштою.\n",
    "\n",
    "Ваше завдання сьогодні — створити модель, яка зможе відрізняти спам від легітимних повідомлень, використовуючи техніки роботи з текстовими даними.\n",
    "Модель глибокого навчання має класифікувати електронні листи на спам (небажані повідомлення) та «ham» (легітимні повідомлення) на основі наданого набору даних Email Spam Detection Dataset, який містить зразки електронних листів, класифікованих як спам або ham.\n",
    "\n",
    "Вам потрібно:\n",
    "1. Провести попередній аналіз даних.\n",
    "2. Підготувати дані для навчання моделі.\n",
    "3. Застосувати методи на основі підрахунку та використати попередньо навчені ембедінги для представлення текстових даних та побудови моделі класифікації.\n",
    "4. Оцінити ефективність моделі та інтерпретувати результати.\n",
    "\n",
    "\n",
    "Покрокова інструкція виконання\n",
    "1. Здійсніть імпорт необхідних бібліотек.\n",
    "2. Підготовка даних:\n",
    "Завантажте набір даних Email Spam Detection Dataset.\n",
    "Розділіть дані на навчальний та валідаційний набори.\n",
    "Оцініть розподіл цільової змінної.\n",
    "Проведіть попередню обробку тексту: видаліть спеціальні символи, приведіть до нижнього регістру, видаліть стоп-слова тощо.\n",
    "Розбийте дані на навчальну та валідаційну вибірки.\n",
    "3. Застосування методів BoW та TF-IDF:\n",
    "Використайте CountVectorizer та TfidfVectorizer з бібліотеки sklearn для перетворення текстових даних у числові вектори.\n",
    "Налаштуйте параметри (наприклад, max_features, ngram_range).\n",
    "Застосуйте BoW та TF-IDF до навчального та валідаційного наборів даних.\n",
    "4. Використання попередньо навчених ембедингів:\n",
    "Оберіть модель попередньо навчених ембедингів (наприклад, Word2Vec, GloVe або FastText).\n",
    "Завантажте обрану модель ембедингів.\n",
    "Створіть функцію для перетворення текстових даних у вектори ембедингів.\n",
    "Застосуйте цю функцію до навчального та валідаційного наборів даних.\n",
    "5. Побудова та навчання моделей:\n",
    "Створіть модель машинного навчання (наприклад, LogisticRegression, RandomForestRegressor) для даних, перетворених за допомогою BoW та TF-IDF.\n",
    "Навчіть модель на даних, перетворених за допомогою BoW та TF-IDF.\n",
    "Створіть іншу модель для даних з попередньо навченими ембедингами.\n",
    "Навчіть цю модель на даних, перетворених за допомогою ембедингів.\n",
    "6. Оцінка моделей:\n",
    "Зробіть прогнози на валідаційному наборі даних для всіх моделей.\n",
    "Обчисліть метрики ефективності (наприклад, AUC, Accuracy). Обґрунтуйте вибір метрики.\n",
    "Порівняйте результати моделей, що використовують BoW та TF-IDF, та попередньо навчені ембединги.\n",
    "7. Аналіз та інтерпретація результатів:\n",
    "Визначте, яка модель працює краще для задачі класифікації спаму.\n",
    "Опишіть переваги та недоліки кожного підходу.\n",
    "8. Вдосконалення моделі (опціонально):\n",
    "Спробуйте різні алгоритми класифікації.\n",
    "Налаштуйте гіперпараметри моделей.\n",
    "\n",
    "\n",
    "Орієнтовний очікуваний результат\n",
    "Орієнтовні результати метрик можуть бути наступними:\n",
    "1. Точність (Accuracy):\n",
    "з використанням BoW та TF-IDF: 82-85%,\n",
    "з використанням ембедингів: 80-83%.\n",
    "2. AUC (Area Under the Curve):\n",
    "з використанням BoW та TF-IDF: 0.84-0.87,\n",
    "з використанням ембедингів: 0.82-0.85\n",
    "☝🏻 Варто зазначити, що ці показники є орієнтовними і можуть варіюватися залежно від:\n",
    "- якості та розміру набору даних,\n",
    "- попередньої обробки даних,\n",
    "- гіперпараметрів моделі,\n",
    "- випадковості при ініціалізації ваг та розділенні даних.\n",
    "\n",
    "Також важливо пам'ятати, що дуже високі показники (близькі до 100%) можуть свідчити про перенавчання (overfitting) моделі, особливо якщо вони значно відрізняються між навчальним та валідаційним наборами даних."
   ]
  },
  {
   "cell_type": "markdown",
   "id": "b78a1baa",
   "metadata": {},
   "source": [
    "## 1. **Import the required libraries.**"
   ]
  },
  {
   "cell_type": "code",
   "execution_count": null,
   "id": "48c437ba",
   "metadata": {},
   "outputs": [],
   "source": [
    "!pip install gensim"
   ]
  },
  {
   "cell_type": "code",
   "execution_count": 1,
   "id": "8e046e92",
   "metadata": {},
   "outputs": [],
   "source": [
    "import os, re, sys, gc, math, json, random, string, warnings\n",
    "warnings.filterwarnings(\"ignore\")\n",
    "\n",
    "import numpy as np\n",
    "import pandas as pd\n",
    "\n",
    "# Візуалізація (за бажанням)\n",
    "import matplotlib.pyplot as plt\n",
    "\n",
    "# НЛП-підготовка\n",
    "import nltk\n",
    "from nltk.corpus import stopwords\n",
    "from nltk.stem import WordNetLemmatizer\n",
    "\n",
    "# ML\n",
    "from sklearn.model_selection import train_test_split\n",
    "from sklearn.metrics import accuracy_score, roc_auc_score, classification_report, confusion_matrix\n",
    "from sklearn.linear_model import LogisticRegression\n",
    "from sklearn.ensemble import RandomForestClassifier\n",
    "from sklearn.feature_extraction.text import CountVectorizer, TfidfVectorizer\n",
    "from sklearn.pipeline import Pipeline\n",
    "\n",
    "# Ембеддинги (gensim)\n",
    "import gensim.downloader as api\n",
    "\n",
    "# 🔒 Відтворюваність\n",
    "SEED = 42\n",
    "random.seed(SEED)\n",
    "np.random.seed(SEED)"
   ]
  },
  {
   "cell_type": "markdown",
   "id": "3a55e736",
   "metadata": {},
   "source": [
    "## 2. **Data loading:**"
   ]
  },
  {
   "cell_type": "code",
   "execution_count": 2,
   "id": "d81292ab",
   "metadata": {},
   "outputs": [
    {
     "name": "stdout",
     "output_type": "stream",
     "text": [
      "                                                text  label\n",
      "0  Go until jurong point, crazy.. Available only ...      0\n",
      "1                      Ok lar... Joking wif u oni...      0\n",
      "2  Free entry in 2 a wkly comp to win FA Cup fina...      1\n",
      "3  U dun say so early hor... U c already then say...      0\n",
      "4  Nah I don't think he goes to usf, he lives aro...      0\n",
      "label\n",
      "0    4825\n",
      "1     747\n",
      "Name: count, dtype: int64\n",
      "Розмір датасету: (5572, 2)\n"
     ]
    }
   ],
   "source": [
    "DATA_PATH = \"spam.csv\"\n",
    "\n",
    "def load_email_dataset(path: str) -> pd.DataFrame:\n",
    "    \"\"\"\n",
    "    Повертає DF з двома колонками:\n",
    "      text: str\n",
    "      label: int (1=spam, 0=ham)\n",
    "    \"\"\"\n",
    "    df = pd.read_csv(path, encoding='ISO-8859-1')\n",
    "    # Нормалізуємо назви\n",
    "    lower_cols = {c.lower(): c for c in df.columns}\n",
    "    # Варіанти можливих імен колонок\n",
    "    text_candidates = [c for c in df.columns if c.lower() in {\"text\",\"message\",\"emailtext\",\"content\",\"v2\",\"body\"}]\n",
    "    label_candidates = [c for c in df.columns if c.lower() in {\"label\",\"category\",\"class\",\"target\",\"v1\"}]\n",
    "\n",
    "    if not text_candidates or not label_candidates:\n",
    "        raise ValueError(\n",
    "            f\"Не знайдено відповідних колонок. Є колонки: {list(df.columns)}.\\n\"\n",
    "            \"Очікуються щось на кшталт: text/message/emailtext/v2 для тексту та label/category/class/target/v1 для мітки.\"\n",
    "        )\n",
    "\n",
    "    text_col = text_candidates[0]\n",
    "    label_col = label_candidates[0]\n",
    "\n",
    "    # До бінарних міток\n",
    "    df = df[[text_col, label_col]].rename(columns={text_col: \"text\", label_col: \"raw_label\"})\n",
    "    df[\"text\"] = df[\"text\"].astype(str)\n",
    "\n",
    "    # Уніфікація міток: 'spam'/'ham' або 1/0\n",
    "    def to_binary(y):\n",
    "        y = str(y).strip().lower()\n",
    "        if y in {\"spam\",\"1\",\"true\",\"yes\"}:\n",
    "            return 1\n",
    "        if y in {\"ham\",\"0\",\"false\",\"no\",\"legit\"}:\n",
    "            return 0\n",
    "        # якщо інший формат, спробуємо інтуїцію: будь-що, що містить \"spam\"\n",
    "        return 1 if \"spam\" in y else 0\n",
    "\n",
    "    df[\"label\"] = df[\"raw_label\"].apply(to_binary).astype(int)\n",
    "    df = df.drop(columns=[\"raw_label\"]).reset_index(drop=True)\n",
    "    return df\n",
    "\n",
    "df = load_email_dataset(DATA_PATH)\n",
    "print(df.head())\n",
    "print(df[\"label\"].value_counts())\n",
    "print(f\"Розмір датасету: {df.shape}\")"
   ]
  },
  {
   "cell_type": "code",
   "execution_count": 3,
   "id": "d63c1422",
   "metadata": {},
   "outputs": [
    {
     "data": {
      "text/plain": [
       "text     0.0\n",
       "label    0.0\n",
       "dtype: float64"
      ]
     },
     "execution_count": 3,
     "metadata": {},
     "output_type": "execute_result"
    }
   ],
   "source": [
    "df.isna().mean().sort_values(ascending=False) "
   ]
  },
  {
   "cell_type": "code",
   "execution_count": 4,
   "id": "38e6f81f",
   "metadata": {},
   "outputs": [
    {
     "data": {
      "text/plain": [
       "text     5169\n",
       "label       2\n",
       "dtype: int64"
      ]
     },
     "execution_count": 4,
     "metadata": {},
     "output_type": "execute_result"
    }
   ],
   "source": [
    "df.nunique()"
   ]
  },
  {
   "cell_type": "markdown",
   "id": "88ff5f32",
   "metadata": {},
   "source": [
    "## 3. **EDA:**"
   ]
  },
  {
   "cell_type": "code",
   "execution_count": 5,
   "id": "9e8469b9",
   "metadata": {},
   "outputs": [
    {
     "data": {
      "image/png": "[encoded data removed]",
      "text/plain": [
       "<Figure size 640x480 with 1 Axes>"
      ]
     },
     "metadata": {},
     "output_type": "display_data"
    },
    {
     "data": {
      "image/png": "[encoded data removed]",
      "text/plain": [
       "<Figure size 640x480 with 1 Axes>"
      ]
     },
     "metadata": {},
     "output_type": "display_data"
    },
    {
     "name": "stdout",
     "output_type": "stream",
     "text": [
      "\n",
      "🔎 Приклади ham:\n",
      " ['Go until jurong point, crazy.. Available only in bugis n great world la e buffet... Cine there got amore wat...', 'Ok lar... Joking wif u oni...', 'U dun say so early hor... U c already then say...']\n",
      "\n",
      "🔎 Приклади spam:\n",
      " [\"Free entry in 2 a wkly comp to win FA Cup final tkts 21st May 2005. Text FA to 87121 to receive entry question(std txt rate)T&C's apply 08452810075over18's\", \"FreeMsg Hey there darling it's been 3 week's now and no word back! I'd like some fun you up for it still? Tb ok! XxX std chgs to send, å£1.50 to rcv\", 'WINNER!! As a valued network customer you have been selected to receivea å£900 prize reward! To claim call 09061701461. Claim code KL341. Valid 12 hours only.']\n"
     ]
    }
   ],
   "source": [
    "ax = df[\"label\"].value_counts().sort_index().plot(kind=\"bar\")\n",
    "ax.set_xticklabels([\"ham(0)\",\"spam(1)\"], rotation=0)\n",
    "ax.set_title(\"Розподіл класів\")\n",
    "plt.show()\n",
    "\n",
    "# Довжина листів\n",
    "df[\"len\"] = df[\"text\"].str.len()\n",
    "df[\"len\"].hist(bins=50)\n",
    "plt.title(\"Розподіл довжин текстів\")\n",
    "plt.xlabel(\"len(chars)\")\n",
    "plt.ylabel(\"count\")\n",
    "plt.show()\n",
    "\n",
    "# Приклади\n",
    "print(\"\\n🔎 Приклади ham:\\n\", df[df.label==0][\"text\"].head(3).to_list())\n",
    "print(\"\\n🔎 Приклади spam:\\n\", df[df.label==1][\"text\"].head(3).to_list())"
   ]
  },
  {
   "cell_type": "markdown",
   "id": "722c6a52",
   "metadata": {},
   "source": [
    "## 4. **Data preparation:**"
   ]
  },
  {
   "cell_type": "code",
   "execution_count": 9,
   "id": "d39507a4",
   "metadata": {},
   "outputs": [
    {
     "name": "stdout",
     "output_type": "stream",
     "text": [
      "Collecting en-core-web-sm==3.8.0\n",
      "  Downloading https://github.com/explosion/spacy-models/releases/download/en_core_web_sm-3.8.0/en_core_web_sm-3.8.0-py3-none-any.whl (12.8 MB)\n",
      "\u001b[2K     \u001b[90m━━━━━━━━━━━━━━━━━━━━━━━━━━━━━━━━━━━━━━━━\u001b[0m \u001b[32m12.8/12.8 MB\u001b[0m \u001b[31m1.5 MB/s\u001b[0m  \u001b[33m0:00:08\u001b[0mm0:00:01\u001b[0m00:01\u001b[0m\n",
      "\u001b[?25hInstalling collected packages: en-core-web-sm\n",
      "Successfully installed en-core-web-sm-3.8.0\n",
      "\u001b[38;5;2m✔ Download and installation successful\u001b[0m\n",
      "You can now load the package via spacy.load('en_core_web_sm')\n"
     ]
    }
   ],
   "source": [
    "!python -m spacy download en_core_web_sm"
   ]
  },
  {
   "cell_type": "code",
   "execution_count": 11,
   "id": "e07995b1",
   "metadata": {},
   "outputs": [
    {
     "name": "stdout",
     "output_type": "stream",
     "text": [
      "✅ Модель spaCy 'en_core_web_sm' успішно завантажена.\n",
      "\n",
      "--- Застосування функції clean_text_spacy до DataFrame ---\n",
      "✅ Очищення тексту за допомогою spaCy успішно завершено!\n",
      "                                                text  \\\n",
      "0  Go until jurong point, crazy.. Available only ...   \n",
      "1                      Ok lar... Joking wif u oni...   \n",
      "2  Free entry in 2 a wkly comp to win FA Cup fina...   \n",
      "3  U dun say so early hor... U c already then say...   \n",
      "4  Nah I don't think he goes to usf, he lives aro...   \n",
      "\n",
      "                                          text_clean  \n",
      "0  jurong point crazy available bugis great world...  \n",
      "1                                   lar joke wif oni  \n",
      "2  free entry wkly comp win cup final tkts text r...  \n",
      "3                                      dun early hor  \n",
      "4                                 nah think usf live  \n"
     ]
    }
   ],
   "source": [
    "import pandas as pd\n",
    "import spacy\n",
    "import re\n",
    "\n",
    "# --- КРОК 1: ЗАВАНТАЖЕННЯ МОДЕЛІ SPACY ---\n",
    "# Завантажуємо малу англійську модель. Робимо це один раз.\n",
    "# disable=[\"parser\", \"ner\"] прискорює роботу, оскільки нам не потрібен синтаксичний аналіз та розпізнавання сутностей.\n",
    "try:\n",
    "    nlp = spacy.load(\"en_core_web_sm\", disable=[\"parser\", \"ner\"])\n",
    "    print(\"✅ Модель spaCy 'en_core_web_sm' успішно завантажена.\")\n",
    "except OSError:\n",
    "    print(\"❌ Модель 'en_core_web_sm' не знайдена. Будь ласка, виконайте в терміналі:\")\n",
    "    print(\"   python -m spacy download en_core_web_sm\")\n",
    "\n",
    "\n",
    "# --- КРОК 2: НОВА ФУНКЦІЯ ОЧИЩЕННЯ НА БАЗІ SPACY ---\n",
    "\n",
    "def clean_text_spacy(text):\n",
    "    \"\"\"Функція очищення тексту з використанням spaCy.\"\"\"\n",
    "    text = str(text).lower()  # Перетворення на нижній регістр\n",
    "    text = re.sub(r'<.*?>', '', text)  # Видалення HTML тегів\n",
    "    text = re.sub(r'\\d+', '', text)  # Видалення цифр\n",
    "    \n",
    "    # Обробляємо текст за допомогою spaCy\n",
    "    doc = nlp(text)\n",
    "    \n",
    "    # Лематизація та видалення стоп-слів і пунктуації\n",
    "    cleaned_tokens = [\n",
    "        token.lemma_ for token in doc \n",
    "        if not token.is_stop and not token.is_punct and len(token.lemma_) > 2\n",
    "    ]\n",
    "    \n",
    "    return \" \".join(cleaned_tokens)\n",
    "\n",
    "\n",
    "\n",
    "print(\"\\n--- Застосування функції clean_text_spacy до DataFrame ---\")\n",
    "try:\n",
    "    df[\"text_clean\"] = df[\"text\"].apply(clean_text_spacy)\n",
    "    print(\"✅ Очищення тексту за допомогою spaCy успішно завершено!\")\n",
    "    # Виведемо результат для перевірки\n",
    "    print(df[[\"text\", \"text_clean\"]].head())\n",
    "except NameError:\n",
    "    print(\"Помилка: DataFrame 'df' не визначено. Будь ласка, завантажте ваші дані перед цією коміркою.\")\n",
    "except KeyError:\n",
    "    print(\"Помилка: у DataFrame 'df' відсутня колонка 'text'.\")"
   ]
  },
  {
   "cell_type": "markdown",
   "id": "bdfd3b8f",
   "metadata": {},
   "source": [
    "## 5. **Трен/валідація спліт:**"
   ]
  },
  {
   "cell_type": "code",
   "execution_count": 12,
   "id": "5707da50",
   "metadata": {},
   "outputs": [
    {
     "name": "stdout",
     "output_type": "stream",
     "text": [
      "train: (4457,), val: (1115,)\n"
     ]
    }
   ],
   "source": [
    "X_train, X_val, y_train, y_val = train_test_split(\n",
    "    df[\"text_clean\"], df[\"label\"], test_size=0.2, random_state=SEED, stratify=df[\"label\"]\n",
    ")\n",
    "print(f\"train: {X_train.shape}, val: {X_val.shape}\")"
   ]
  },
  {
   "cell_type": "markdown",
   "id": "e3879d13",
   "metadata": {},
   "source": [
    "## 6. **BoW (CountVectorizer) + LogisticRegression:**"
   ]
  },
  {
   "cell_type": "code",
   "execution_count": 13,
   "id": "5a474d23",
   "metadata": {},
   "outputs": [
    {
     "name": "stdout",
     "output_type": "stream",
     "text": [
      "\n",
      "🔎 BoW + LogisticRegression — Accuracy: 0.9812, ROC-AUC: 0.9794\n",
      "              precision    recall  f1-score   support\n",
      "\n",
      "         ham       0.98      0.99      0.99       966\n",
      "        spam       0.96      0.89      0.93       149\n",
      "\n",
      "    accuracy                           0.98      1115\n",
      "   macro avg       0.97      0.94      0.96      1115\n",
      "weighted avg       0.98      0.98      0.98      1115\n",
      "\n",
      "Confusion matrix:\n",
      " [[961   5]\n",
      " [ 16 133]]\n"
     ]
    }
   ],
   "source": [
    "bow_lr = Pipeline([\n",
    "    (\"vec\", CountVectorizer(max_features=5000, ngram_range=(1,2))),\n",
    "    (\"clf\", LogisticRegression(max_iter=200, n_jobs=None, class_weight=\"balanced\", random_state=SEED))\n",
    "])\n",
    "\n",
    "bow_lr.fit(X_train, y_train)\n",
    "\n",
    "# Оцінка\n",
    "def eval_binary(model, X_tr, y_tr, X_te, y_te, name=\"model\"):\n",
    "    \"\"\"\n",
    "    Обчислює Accuracy, ROC-AUC, друкує короткий звіт і повертає словник метрик.\n",
    "    \"\"\"\n",
    "    y_pred = model.predict(X_te)\n",
    "    # ймовірності (якщо доступні)\n",
    "    if hasattr(model, \"predict_proba\"):\n",
    "        y_proba = model.predict_proba(X_te)[:,1]\n",
    "    elif hasattr(model, \"decision_function\"):\n",
    "        # fallback для моделей без predict_proba\n",
    "        scores = model.decision_function(X_te)\n",
    "        # нормалізуємо у [0,1]\n",
    "        y_proba = (scores - scores.min()) / (scores.max() - scores.min() + 1e-9)\n",
    "    else:\n",
    "        y_proba = None\n",
    "\n",
    "    acc = accuracy_score(y_te, y_pred)\n",
    "    auc = roc_auc_score(y_te, y_proba) if y_proba is not None else np.nan\n",
    "\n",
    "    print(f\"\\n🔎 {name} — Accuracy: {acc:.4f}, ROC-AUC: {auc:.4f}\")\n",
    "    print(classification_report(y_te, y_pred, target_names=[\"ham\",\"spam\"]))\n",
    "    print(\"Confusion matrix:\\n\", confusion_matrix(y_te, y_pred))\n",
    "    return {\"Model\": name, \"Accuracy\": acc, \"ROC-AUC\": auc}\n",
    "\n",
    "metrics_bow_lr = eval_binary(bow_lr, X_train, y_train, X_val, y_val, name=\"BoW + LogisticRegression\")"
   ]
  },
  {
   "cell_type": "markdown",
   "id": "28e3a8f3",
   "metadata": {},
   "source": [
    "\n",
    "## 7. **TF-IDF + LogisticRegression та/або RandomForestClassifier:**"
   ]
  },
  {
   "cell_type": "code",
   "execution_count": 14,
   "id": "16a02ca2",
   "metadata": {},
   "outputs": [
    {
     "name": "stdout",
     "output_type": "stream",
     "text": [
      "\n",
      "🔎 TF-IDF + LogisticRegression — Accuracy: 0.9794, ROC-AUC: 0.9841\n",
      "              precision    recall  f1-score   support\n",
      "\n",
      "         ham       0.99      0.99      0.99       966\n",
      "        spam       0.93      0.92      0.92       149\n",
      "\n",
      "    accuracy                           0.98      1115\n",
      "   macro avg       0.96      0.95      0.96      1115\n",
      "weighted avg       0.98      0.98      0.98      1115\n",
      "\n",
      "Confusion matrix:\n",
      " [[955  11]\n",
      " [ 12 137]]\n",
      "\n",
      "🔎 TF-IDF + RandomForest — Accuracy: 0.9713, ROC-AUC: 0.9812\n",
      "              precision    recall  f1-score   support\n",
      "\n",
      "         ham       0.97      1.00      0.98       966\n",
      "        spam       0.98      0.80      0.88       149\n",
      "\n",
      "    accuracy                           0.97      1115\n",
      "   macro avg       0.98      0.90      0.93      1115\n",
      "weighted avg       0.97      0.97      0.97      1115\n",
      "\n",
      "Confusion matrix:\n",
      " [[964   2]\n",
      " [ 30 119]]\n"
     ]
    }
   ],
   "source": [
    "tfidf_lr = Pipeline([\n",
    "    (\"vec\", TfidfVectorizer(max_features=5000, ngram_range=(1,2))),\n",
    "    (\"clf\", LogisticRegression(max_iter=200, class_weight=\"balanced\", random_state=SEED))\n",
    "])\n",
    "tfidf_lr.fit(X_train, y_train)\n",
    "metrics_tfidf_lr = eval_binary(tfidf_lr, X_train, y_train, X_val, y_val, name=\"TF-IDF + LogisticRegression\")\n",
    "\n",
    "# 📦 TF-IDF + RandomForestClassifier (увага: саме Classifier, не Regressor)\n",
    "tfidf_rf = Pipeline([\n",
    "    (\"vec\", TfidfVectorizer(max_features=5000, ngram_range=(1,2))),\n",
    "    (\"clf\", RandomForestClassifier(\n",
    "        n_estimators=400, max_depth=None, n_jobs=-1, random_state=SEED, class_weight=\"balanced_subsample\"\n",
    "    ))\n",
    "])\n",
    "tfidf_rf.fit(X_train, y_train)\n",
    "metrics_tfidf_rf = eval_binary(tfidf_rf, X_train, y_train, X_val, y_val, name=\"TF-IDF + RandomForest\")"
   ]
  },
  {
   "cell_type": "markdown",
   "id": "4e3b27a3",
   "metadata": {},
   "source": [
    "## 8. **Попередньо навчені ембеддинги (GloVe) + LogisticRegression:**"
   ]
  },
  {
   "cell_type": "code",
   "execution_count": 15,
   "id": "edcff9ec",
   "metadata": {},
   "outputs": [
    {
     "name": "stdout",
     "output_type": "stream",
     "text": [
      "[==================================================] 100.0% 128.1/128.1MB downloaded\n",
      "\n",
      "🔎 Embeddings(GloVe) + LR — Accuracy: 0.8888, ROC-AUC: 0.9517\n",
      "              precision    recall  f1-score   support\n",
      "\n",
      "         ham       0.98      0.89      0.93       966\n",
      "        spam       0.55      0.88      0.68       149\n",
      "\n",
      "    accuracy                           0.89      1115\n",
      "   macro avg       0.77      0.88      0.81      1115\n",
      "weighted avg       0.92      0.89      0.90      1115\n",
      "\n",
      "Confusion matrix:\n",
      " [[860 106]\n",
      " [ 18 131]]\n"
     ]
    }
   ],
   "source": [
    "EMB_MODEL_NAME = \"glove-wiki-gigaword-100\"  # (100-вимірна; варіанти: fasttext-wiki-news-subwords-300, word2vec-google-news-300)\n",
    "try:\n",
    "    kv = api.load(EMB_MODEL_NAME)\n",
    "except Exception as e:\n",
    "    print(\"⚠️ Не вдалося завантажити ембеддинги через мережу. \"\n",
    "          \"Спробуйте іншу модель або завантажте локально. Помилка:\", e)\n",
    "    kv = None\n",
    "\n",
    "def doc_vector_mean(text: str, keyed_vectors) -> np.ndarray:\n",
    "    \"\"\"\n",
    "    Агрегуємо вектор документа як середнє по токенах, що є в словнику ембеддингів.\n",
    "    Порожній документ -> нульовий вектор.\n",
    "    \"\"\"\n",
    "    if keyed_vectors is None:\n",
    "        return None\n",
    "    tokens = text.split()\n",
    "    vecs = []\n",
    "    for t in tokens:\n",
    "        if t in keyed_vectors:\n",
    "            vecs.append(keyed_vectors[t])\n",
    "    if len(vecs)==0:\n",
    "        return np.zeros(keyed_vectors.vector_size, dtype=np.float32)\n",
    "    return np.mean(vecs, axis=0)\n",
    "\n",
    "def embed_corpus(texts, keyed_vectors):\n",
    "    \"\"\"\n",
    "    Перетворює список рядків у матрицю розміром [n_docs, dim].\n",
    "    \"\"\"\n",
    "    out = np.vstack([doc_vector_mean(t, keyed_vectors) for t in texts])\n",
    "    return out\n",
    "\n",
    "if kv is not None:\n",
    "    X_train_emb = embed_corpus(X_train.tolist(), kv)\n",
    "    X_val_emb = embed_corpus(X_val.tolist(), kv)\n",
    "\n",
    "    emb_lr = LogisticRegression(max_iter=300, class_weight=\"balanced\", random_state=SEED)\n",
    "    emb_lr.fit(X_train_emb, y_train)\n",
    "    # оцінка\n",
    "    y_pred = emb_lr.predict(X_val_emb)\n",
    "    y_proba = emb_lr.predict_proba(X_val_emb)[:,1]\n",
    "    acc = accuracy_score(y_val, y_pred)\n",
    "    auc = roc_auc_score(y_val, y_proba)\n",
    "    print(f\"\\n🔎 Embeddings(GloVe) + LR — Accuracy: {acc:.4f}, ROC-AUC: {auc:.4f}\")\n",
    "    print(classification_report(y_val, y_pred, target_names=[\"ham\",\"spam\"]))\n",
    "    print(\"Confusion matrix:\\n\", confusion_matrix(y_val, y_pred))\n",
    "    metrics_emb_lr = {\"Model\":\"Embeddings(GloVe) + LR\", \"Accuracy\":acc, \"ROC-AUC\":auc}\n",
    "else:\n",
    "    metrics_emb_lr = {\"Model\":\"Embeddings(GloVe) + LR\", \"Accuracy\":np.nan, \"ROC-AUC\":np.nan}"
   ]
  },
  {
   "cell_type": "markdown",
   "id": "45509854",
   "metadata": {},
   "source": [
    "## 9. **Порівняння моделей:**"
   ]
  },
  {
   "cell_type": "code",
   "execution_count": 16,
   "id": "a68c620e",
   "metadata": {},
   "outputs": [
    {
     "name": "stdout",
     "output_type": "stream",
     "text": [
      "\n",
      "🏁 Підсумок за метриками:\n"
     ]
    },
    {
     "data": {
      "text/html": [
       "<div>\n",
       "<style scoped>\n",
       "    .dataframe tbody tr th:only-of-type {\n",
       "        vertical-align: middle;\n",
       "    }\n",
       "\n",
       "    .dataframe tbody tr th {\n",
       "        vertical-align: top;\n",
       "    }\n",
       "\n",
       "    .dataframe thead th {\n",
       "        text-align: right;\n",
       "    }\n",
       "</style>\n",
       "<table border=\"1\" class=\"dataframe\">\n",
       "  <thead>\n",
       "    <tr style=\"text-align: right;\">\n",
       "      <th></th>\n",
       "      <th>Model</th>\n",
       "      <th>Accuracy</th>\n",
       "      <th>ROC-AUC</th>\n",
       "    </tr>\n",
       "  </thead>\n",
       "  <tbody>\n",
       "    <tr>\n",
       "      <th>1</th>\n",
       "      <td>TF-IDF + LogisticRegression</td>\n",
       "      <td>0.979372</td>\n",
       "      <td>0.984107</td>\n",
       "    </tr>\n",
       "    <tr>\n",
       "      <th>2</th>\n",
       "      <td>TF-IDF + RandomForest</td>\n",
       "      <td>0.971300</td>\n",
       "      <td>0.981158</td>\n",
       "    </tr>\n",
       "    <tr>\n",
       "      <th>0</th>\n",
       "      <td>BoW + LogisticRegression</td>\n",
       "      <td>0.981166</td>\n",
       "      <td>0.979369</td>\n",
       "    </tr>\n",
       "    <tr>\n",
       "      <th>3</th>\n",
       "      <td>Embeddings(GloVe) + LR</td>\n",
       "      <td>0.888789</td>\n",
       "      <td>0.951679</td>\n",
       "    </tr>\n",
       "  </tbody>\n",
       "</table>\n",
       "</div>"
      ],
      "text/plain": [
       "                         Model  Accuracy   ROC-AUC\n",
       "1  TF-IDF + LogisticRegression  0.979372  0.984107\n",
       "2        TF-IDF + RandomForest  0.971300  0.981158\n",
       "0     BoW + LogisticRegression  0.981166  0.979369\n",
       "3       Embeddings(GloVe) + LR  0.888789  0.951679"
      ]
     },
     "metadata": {},
     "output_type": "display_data"
    }
   ],
   "source": [
    "summary = pd.DataFrame([\n",
    "    metrics_bow_lr,\n",
    "    metrics_tfidf_lr,\n",
    "    metrics_tfidf_rf,\n",
    "    metrics_emb_lr\n",
    "]).sort_values(by=[\"ROC-AUC\",\"Accuracy\"], ascending=False)\n",
    "print(\"\\n🏁 Підсумок за метриками:\")\n",
    "display(summary)"
   ]
  },
  {
   "cell_type": "markdown",
   "id": "bb009d13",
   "metadata": {},
   "source": [
    "## 10. **нтерпретація (важливі слова для LR + TF-IDF):**"
   ]
  },
  {
   "cell_type": "code",
   "execution_count": 17,
   "id": "f4315531",
   "metadata": {},
   "outputs": [
    {
     "name": "stdout",
     "output_type": "stream",
     "text": [
      "\n",
      "🔺 Ознаки на користь SPAM:\n",
      "                 txt  coef=5.967\n",
      "              mobile  coef=4.398\n",
      "                 win  coef=4.326\n",
      "               claim  coef=4.209\n",
      "             service  coef=3.800\n",
      "               reply  coef=3.727\n",
      "                free  coef=3.690\n",
      "                 www  coef=3.575\n",
      "                 new  coef=3.242\n",
      "                text  coef=3.058\n",
      "                stop  coef=3.016\n",
      "                 com  coef=2.930\n",
      "               award  coef=2.905\n",
      "               prize  coef=2.844\n",
      "                 min  coef=2.834\n",
      "\n",
      "🔻 Ознаки на користь HAM:\n",
      "                 get  coef=-1.926\n",
      "                home  coef=-1.717\n",
      "               sorry  coef=-1.706\n",
      "                  gt  coef=-1.673\n",
      "                  lt  coef=-1.673\n",
      "                 lor  coef=-1.661\n",
      "               later  coef=-1.545\n",
      "               lt gt  coef=-1.520\n",
      "                 way  coef=-1.489\n",
      "                 not  coef=-1.466\n",
      "                 hey  coef=-1.420\n",
      "                 say  coef=-1.322\n",
      "                 wat  coef=-1.285\n",
      "                 lol  coef=-1.251\n",
      "                yeah  coef=-1.242\n"
     ]
    }
   ],
   "source": [
    "def show_top_features(sk_pipeline, top_k=15):\n",
    "    vec = sk_pipeline.named_steps[\"vec\"]\n",
    "    clf = sk_pipeline.named_steps[\"clf\"]\n",
    "    if not hasattr(clf, \"coef_\"):\n",
    "        print(\"Класифікатор без коефіцієнтів (не LR).\")\n",
    "        return\n",
    "    feature_names = np.array(vec.get_feature_names_out())\n",
    "    coefs = clf.coef_[0]\n",
    "    top_spam_idx = np.argsort(coefs)[-top_k:]\n",
    "    top_ham_idx  = np.argsort(coefs)[:top_k]\n",
    "    print(\"\\n🔺 Ознаки на користь SPAM:\")\n",
    "    for i in reversed(top_spam_idx):\n",
    "        print(f\"{feature_names[i]:>20s}  coef={coefs[i]:.3f}\")\n",
    "    print(\"\\n🔻 Ознаки на користь HAM:\")\n",
    "    for i in top_ham_idx:\n",
    "        print(f\"{feature_names[i]:>20s}  coef={coefs[i]:.3f}\")\n",
    "\n",
    "show_top_features(tfidf_lr, top_k=15)"
   ]
  },
  {
   "cell_type": "markdown",
   "id": "cf4d646d",
   "metadata": {},
   "source": [
    "## 11. **Обґрунтування метрик:**"
   ]
  },
  {
   "cell_type": "markdown",
   "id": "d42acb3a",
   "metadata": {},
   "source": [
    "**Метрики:**\n",
    "- `Accuracy` — проста й інтуїтивна; добре працює при збалансованих класах.\n",
    "- `ROC-AUC` — чутлива до якості ранжування ймовірностей; стабільніша при дисбалансі класів.\n",
    "У задачі спаму зазвичай пріоритет — високий `ROC-AUC` (щоб добре відсікати спам при різних порогах), але на практиці також важливі `precision/recall` для класу spam.\n"
   ]
  },
  {
   "cell_type": "markdown",
   "id": "27eaaa5c",
   "metadata": {},
   "source": [
    "## 12. **Короткі висновки:**"
   ]
  },
  {
   "cell_type": "markdown",
   "id": "4adbc251",
   "metadata": {},
   "source": [
    "**Порівняння підходів:**\n",
    "\n",
    "- **BoW/TF-IDF + LogisticRegression**: показала дуже високі результати — Accuracy ≈ 0.98, AUC ≈ 0.98. Це значно вище орієнтовних очікувань (0.82–0.85 / 0.84–0.87), що свідчить про те, що модель чудово вловлює характерні ознаки спаму (наприклад, ключові слова чи шаблони).  \n",
    "- **TF-IDF + RandomForest**: Accuracy ≈ 0.97, AUC ≈ 0.98. Результат близький до LogisticRegression, але трохи слабший. При цьому модель більш ресурсомістка і менш інтерпретована.  \n",
    "- **BoW + LogisticRegression**: Accuracy ≈ 0.98, AUC ≈ 0.98. Подібна до TF-IDF, хоча TF-IDF дає трохи кращу AUC.  \n",
    "- **Ембеддинги (GloVe) + LogisticRegression**: Accuracy ≈ 0.89, AUC ≈ 0.95. Результати нижчі, ніж у TF-IDF/BoW, що очікувано для невеликих датасетів. Проте модель краще враховує семантику слів.\n",
    "\n",
    "---\n",
    "\n",
    "## Переваги та недоліки\n",
    "\n",
    "- **BoW/TF-IDF**  \n",
    "  + дуже висока точність на цьому датасеті;  \n",
    "  + простота реалізації й інтерпретації;  \n",
    "  + швидке навчання;  \n",
    "  − ігнорування контексту та порядку слів, велика розмірність.  \n",
    "\n",
    "- **Ембеддинги (GloVe)**  \n",
    "  + здатність відображати семантичну близькість слів;  \n",
    "  + компактність векторів;  \n",
    "  − нижчі результати на невеликих датасетах;  \n",
    "  − при усередненні втрачається контекст.\n",
    "\n",
    "---\n",
    "\n",
    "## Висновок\n",
    "\n",
    "У моєму експерименті результати значно перевищили орієнтовні значення, наведені у завданні (0.82–0.85 Accuracy).  \n",
    "Найкраще себе показала модель **TF-IDF + LogisticRegression** (Accuracy ≈ 97.9%, AUC ≈ 0.984).  \n",
    "Це свідчить про те, що для даного датасету класичний підхід із TF-IDF працює особливо ефективно.  \n",
    "Ембеддинги мають потенціал на великих і більш різнорідних корпусах текстів, але тут TF-IDF продемонстрував максимальну практичну користь.\n",
    "\n"
   ]
  }
 ],
 "metadata": {
  "kernelspec": {
   "display_name": "Python 3 (ipykernel)",
   "language": "python",
   "name": "python3"
  },
  "language_info": {
   "codemirror_mode": {
    "name": "ipython",
    "version": 3
   },
   "file_extension": ".py",
   "mimetype": "text/x-python",
   "name": "python",
   "nbconvert_exporter": "python",
   "pygments_lexer": "ipython3",
   "version": "3.12.10"
  }
 },
 "nbformat": 4,
 "nbformat_minor": 5
}
